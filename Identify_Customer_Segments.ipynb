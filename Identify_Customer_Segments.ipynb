{
 "cells": [
  {
   "cell_type": "markdown",
   "metadata": {},
   "source": [
    "# Project: Identify Customer Segments\n",
    "\n",
    "In this project, you will apply unsupervised learning techniques to identify segments of the population that form the core customer base for a mail-order sales company in Germany. These segments can then be used to direct marketing campaigns towards audiences that will have the highest expected rate of returns. The data that you will use has been provided by our partners at Bertelsmann Arvato Analytics, and represents a real-life data science task.\n",
    "\n",
    "This notebook will help you complete this task by providing a framework within which you will perform your analysis steps. In each step of the project, you will see some text describing the subtask that you will perform, followed by one or more code cells for you to complete your work. **Feel free to add additional code and markdown cells as you go along so that you can explore everything in precise chunks.** The code cells provided in the base template will outline only the major tasks, and will usually not be enough to cover all of the minor tasks that comprise it.\n",
    "\n",
    "It should be noted that while there will be precise guidelines on how you should handle certain tasks in the project, there will also be places where an exact specification is not provided. **There will be times in the project where you will need to make and justify your own decisions on how to treat the data.** These are places where there may not be only one way to handle the data. In real-life tasks, there may be many valid ways to approach an analysis task. One of the most important things you can do is clearly document your approach so that other scientists can understand the decisions you've made.\n",
    "\n",
    "At the end of most sections, there will be a Markdown cell labeled **Discussion**. In these cells, you will report your findings for the completed section, as well as document the decisions that you made in your approach to each subtask. **Your project will be evaluated not just on the code used to complete the tasks outlined, but also your communication about your observations and conclusions at each stage.**"
   ]
  },
  {
   "cell_type": "code",
   "execution_count": 1,
   "metadata": {},
   "outputs": [
    {
     "data": {
      "text/plain": [
       "'\\nImport note: The classroom currently uses sklearn version 0.19.\\nIf you need to use an imputer, it is available in sklearn.preprocessing.Imputer,\\ninstead of sklearn.impute as in newer versions of sklearn.\\n'"
      ]
     },
     "execution_count": 1,
     "metadata": {},
     "output_type": "execute_result"
    }
   ],
   "source": [
    "# import libraries here; add more as necessary\n",
    "from IPython.display import display\n",
    "import matplotlib.pyplot as plt\n",
    "import numpy as np\n",
    "import pandas as pd\n",
    "import seaborn as sns\n",
    "\n",
    "\n",
    "# magic word for producing visualizations in notebook\n",
    "%matplotlib inline\n",
    "\n",
    "'''\n",
    "Import note: The classroom currently uses sklearn version 0.19.\n",
    "If you need to use an imputer, it is available in sklearn.preprocessing.Imputer,\n",
    "instead of sklearn.impute as in newer versions of sklearn.\n",
    "'''"
   ]
  },
  {
   "cell_type": "markdown",
   "metadata": {},
   "source": [
    "## Functions"
   ]
  },
  {
   "cell_type": "code",
   "execution_count": 2,
   "metadata": {},
   "outputs": [],
   "source": [
    "def _get_nulls(feats):\n",
    "    null_map = {}\n",
    "    for idx, row in feats.iterrows():\n",
    "        str_nulls = row['missing_or_unknown'].strip('[]')\n",
    "        if len(str_nulls) > 0:  # Check for empty\n",
    "            try:\n",
    "                nulls = [int(i) for i in str_nulls.split(',')]\n",
    "            except ValueError:  # non int val\n",
    "                nulls = [i for i in str_nulls.split(',')]\n",
    "            null_map[row['attribute']] = nulls\n",
    "    return null_map\n",
    "\n",
    "def _clean_feature(df, key, nulls):\n",
    "    is_int = True\n",
    "    for null in nulls:\n",
    "        if type(null) == str:\n",
    "            is_int = False\n",
    "        df.loc[df[key] == null, key] = np.nan\n",
    "    return df\n",
    "\n",
    "def convert_nans(df: pd.DataFrame, feats: pd.DataFrame) -> pd.DataFrame:\n",
    "    \"\"\"Convert nans using Feature maps from dataframe\"\"\"\n",
    "    df = df.copy()\n",
    "    null_map = _get_nulls(feats)\n",
    "    for key, nulls in null_map.items():\n",
    "        df = _clean_feature(df, key, nulls)\n",
    "    return df\n",
    "\n",
    "\n",
    "def test_convert_nans():\n",
    "    feat_df = pd.DataFrame({'attribute': [0, 1],\n",
    "                            1: ['', ''],\n",
    "                            2: ['', ''],\n",
    "                            'missing_or_unknown': ['[-1,0, 9,   99]', '[-1,0]']})\n",
    "    df = pd.DataFrame({0: [-1, -1, -1, 1, 2, 3, 99],\n",
    "                       1: [-1, -1,  0, 1, 2, 3,  4]})\n",
    "    out = convert_nans(df, feat_df)\n",
    "    exp = pd.DataFrame({0: [np.nan, np.nan, np.nan, 1, 2, 3, np.nan],\n",
    "                        1: [np.nan, np.nan, np.nan, 1, 2, 3, 4]})\n",
    "    # row 0\n",
    "    for i in range(3):\n",
    "        assert pd.isnull(out.iloc[i, 0])\n",
    "    for i in range(3, len(df.index)-1):\n",
    "        assert not pd.isnull(out.iloc[i, 0])\n",
    "    assert pd.isnull(out.iloc[-1, 0])\n",
    "\n",
    "    # row 1\n",
    "    for i in range(3):\n",
    "        assert pd.isnull(out.iloc[i, 1])\n",
    "    for i in range(3, len(df.index)):\n",
    "        assert not pd.isnull(out.iloc[i, 1])\n",
    "        \n",
    "\n",
    "test_convert_nans()\n",
    "\n",
    "def get_na_freq(df, axis=0):\n",
    "    \"\"\"Collect Frequency of NaN Values\"\"\"\n",
    "    if axis == 0 :\n",
    "        total = len(df.index)\n",
    "    else:\n",
    "        total = len(df.columns)\n",
    "    df = df.copy()\n",
    "    na_hist = df.isna().sum(axis=axis).sort_values(ascending=False)\n",
    "    if axis == 0:\n",
    "        na_hist.index.name = 'Attribute'\n",
    "    else:\n",
    "        na_hist.index.name = 'Index'\n",
    "    na_hist.name = 'Freq'\n",
    "    na_hist = na_hist.to_frame()\n",
    "    na_hist = na_hist.assign(Percent=lambda df: df['Freq'] / total * 100)\n",
    "    na_hist = na_hist.reset_index()\n",
    "    return na_hist\n",
    "\n",
    "def remove_empty_cols(df, top_n, axis=0):\n",
    "    \"\"\"remove top_n attributes with most frequent NaN Values\"\"\"\n",
    "    df = df.copy()\n",
    "    na_hist = get_na_freq(df, axis=axis)\n",
    "    if axis == 0:\n",
    "        na_attrs = na_hist['Attribute'].values\n",
    "        drop_axis=1\n",
    "    else:\n",
    "        na_attrs = na_hist['Index'].values\n",
    "        drop_axis=0\n",
    "    \n",
    "    df = df.drop(na_attrs[:top_n], axis=drop_axis)\n",
    "    dropped_attrs = na_attrs[:top_n]\n",
    "    return df, dropped_attrs\n",
    "\n",
    "def split_on_nan(df: pd.DataFrame, threshold: float):\n",
    "    \"\"\"Split data into two data sets based on number of missing values\"\"\"\n",
    "    left_idx = df.isna().sum(axis=1) <= threshold\n",
    "    right_idx = df.isna().sum(axis=1) > threshold\n",
    "\n",
    "    left_df = df.loc[left_idx, :]\n",
    "    right_df = df.loc[right_idx, :]\n",
    "    \n",
    "    return left_df.copy(), right_df.copy()\n",
    "\n",
    "\n",
    "def test_split_on_nan():\n",
    "    th = 2\n",
    "    df = pd.DataFrame({0: [np.nan, np.nan, np.nan, 1, 2, 3, np.nan],\n",
    "                       1: [np.nan, np.nan, np.nan, 1, 2, 3,      4],\n",
    "                       2: [np.nan, np.nan,      0, 1, 2, 3,      4],\n",
    "                       3: [     1, np.nan,      0, 1, 2, 3,      4],\n",
    "                       4: [     2,      3,      0, 1, 2, 3,      4]})\n",
    "    df1, df2 = split_on_nan(df, th)\n",
    "    assert df1.isna().sum(axis=1).max() == th\n",
    "    assert df2.isna().sum(axis=1).max() > th\n",
    "    assert df2.isna().sum(axis=1).max() == 4\n",
    "    \n",
    "test_split_on_nan()\n",
    "\n",
    "def get_categorical_cols(feat_info, data, *, cat_type='categorical') -> list:\n",
    "    \"\"\"Gather Categorical Columns that exist in data\"\"\"\n",
    "    cat_info = feat_info.query(f'type == \"{cat_type}\"')\n",
    "    cat_keys = cat_info['attribute'].values\n",
    "    cat_keys = [col for col in cat_keys if col in data.columns]\n",
    "    return cat_keys\n",
    "\n",
    "def get_num_categories(df, cat_keys):\n",
    "    \"\"\"Return number of categories per list of keys, `cat_keys`\"\"\"\n",
    "    return pd.Series({col: len(df[col].unique()) for col in cat_keys}, name='n_categories')\n",
    "\n",
    "\n",
    "def test_get_categorical_cols():\n",
    "    def test_out(out, leng, exp_list):\n",
    "        assert len(out) == leng\n",
    "        for e in exp_list:\n",
    "            assert e in out\n",
    "            \n",
    "            \n",
    "    df = pd.DataFrame({\n",
    "        'bin_1': [1, 2, 1, 2, 1, 2],\n",
    "        'bin_2': [3, 4, 4, 3, 4, 4],\n",
    "        'mul_1': [1, 2, 3, 4, 1, 2],\n",
    "        'mul_2': [9, 8, 7, 9, 8, 7],\n",
    "        'other': [2, 3, 9, 8, 7, 3.3],\n",
    "    })\n",
    "    cat_types = ['categorical', 'categorical', 'categorical', 'mixed', 'other']\n",
    "    \n",
    "    f_info = pd.DataFrame({}, columns=['attribute', 'type', 'other_val'])\n",
    "    for i, (name, c_type) in enumerate(zip(df.columns, cat_types)):\n",
    "        f_info.loc[i] = [name, c_type, np.nan]\n",
    "    \n",
    "    # test default\n",
    "    out = get_categorical_cols(f_info, df)\n",
    "    test_out(out, leng=3, exp_list=['bin_1', 'bin_2', 'mul_1'])\n",
    "    \n",
    "    # test option\n",
    "    out2 = get_categorical_cols(f_info, df, cat_type='mixed')\n",
    "    test_out(out2, leng=1, exp_list=['mul_2'])\n",
    "\n",
    "test_get_categorical_cols()\n",
    "\n",
    "def split_categories(n_categories: pd.DataFrame, *, cutoff1=2, cutoff2=10):\n",
    "    low_cats = (n_categories[n_categories <= cutoff1]).index\n",
    "    remaining = (n_categories[n_categories > cutoff1])\n",
    "    mid_cats = (remaining[remaining <= cutoff2]).index\n",
    "    high_cats = (remaining[remaining > cutoff2]).index\n",
    "    return low_cats, mid_cats, high_cats\n",
    "\n",
    "\n",
    "def test_split_categories():\n",
    "    def test_out(out, ex1, ex2, ex3):\n",
    "        out_l, out_m, out_h = out\n",
    "        assert len(out_l) == ex1\n",
    "        assert len(out_m) == ex2\n",
    "        assert len(out_h) == ex3\n",
    "        \n",
    "    ser = pd.Series({\n",
    "        'spam': 2,\n",
    "        'ham':  3,\n",
    "        'eggs': 5,\n",
    "        'bacon': 10,\n",
    "        'toast': 12,\n",
    "    })\n",
    "    out_default = split_categories(ser)\n",
    "    test_out(out_default, ex1=1, ex2=3, ex3=1)\n",
    "    out_options = split_categories(ser, cutoff1=3, cutoff2=5)\n",
    "    test_out(out_options, ex1=2, ex2=1, ex3=2)\n",
    "\n",
    "test_split_categories()\n",
    "\n",
    "def get_multi_dummies(df, multi_cats, bin_cats, *, drop_cats=[]):\n",
    "    b_df = df[bin_cats]\n",
    "    o_df = df.drop(bin_cats, axis=1).drop(drop_cats, axis=1)\n",
    "    b_dummies = pd.get_dummies(b_df, sparse=False, drop_first=True, columns=bin_cats)\n",
    "    o_dummies = pd.get_dummies(o_df, sparse=False, columns=multi_cats)\n",
    "    return pd.concat([o_dummies, b_dummies], axis=1)\n",
    "\n",
    "def test_get_multi_dummies():\n",
    "    def test_out(out, exp_mul, exp_bin, exp_other):\n",
    "        assert len(out.columns) == exp_mul + exp_bin + exp_other\n",
    "        for exp, enum in zip((exp_mul, exp_bin, exp_other),\n",
    "                             ('mul', 'bin', 'other')):\n",
    "            assert len([col for col in out.columns if  enum in col]) == exp\n",
    "    df = pd.DataFrame({\n",
    "        'bin_1': [1, 2, 1, 2, 1, 2],\n",
    "        'bin_2': [3, 4, 4, 3, 4, 4],\n",
    "        'mul_1': [1, 2, 3, 4, 1, 2],\n",
    "        'mul_2': [9, 8, 7, 9, 8, 7],\n",
    "        'other': [2, 3, 9, 8, 7, 3.3],\n",
    "    })\n",
    "    m_cats = ['mul_1', 'mul_2']\n",
    "    b_cats = ['bin_1', 'bin_2']\n",
    "    \n",
    "    exp_total = 10\n",
    "    exp_mul = 7\n",
    "    exp_bin = 2\n",
    "    exp_other = 1\n",
    "    # test default\n",
    "    out = get_multi_dummies(df, m_cats, b_cats)\n",
    "    test_out(out, exp_mul, exp_bin, exp_other)\n",
    "    excluded = ['other']\n",
    "    # Test col removal\n",
    "    out2 = get_multi_dummies(df, m_cats, b_cats, drop_cats=excluded)\n",
    "    exp_other = 0\n",
    "    test_out(out2, exp_mul, exp_bin, exp_other)\n",
    "    \n",
    "test_get_multi_dummies()\n",
    "\n",
    "def map_unique_col(df: pd.DataFrame, col: str, mapping: dict, *, suffix='_map') -> pd.DataFrame:\n",
    "    \"\"\"Process unique col into encoding using mapping\"\"\"\n",
    "    new_col = f'{col}{suffix}'\n",
    "    i = 0\n",
    "    while new_col in df.columns:\n",
    "        if i == 0:\n",
    "            new_col += f'_{i}'\n",
    "        else:\n",
    "            new_col = new_col[:-2] + f'_{i}'\n",
    "    new_df = df.copy()\n",
    "    new_df[new_col] = df[col].replace(mapping)\n",
    "    return new_df\n",
    "    \n",
    "\n",
    "def test_process_unique_col():\n",
    "    df = pd.DataFrame({\n",
    "        'bin_1': [1, 2, 1, 2, 1, 2],\n",
    "        'bin_2': [3, 4, 4, 3, 4, 4],\n",
    "        'mul_1': [1, 2, 3, 4, 1, 2],\n",
    "        'mul_2': [9, 8, 7, 9, 8, 7],\n",
    "        'other': [2, 3, 9, 8, 7, 3],\n",
    "    })\n",
    "    col = 'other'\n",
    "    mapping = {2: 0, 3: 0, 9: 1, 8: 1, 7: 1}\n",
    "    out = map_unique_col(df, col, mapping)\n",
    "    assert len(out[f'{col}_map']) == 6\n",
    "    for e in (0,1):\n",
    "        s = (out[f'{col}_map'] == e).sum()\n",
    "        assert s == 3\n",
    "test_process_unique_col()\n",
    "\n",
    "def process_jugnedjahre_unique(data: pd.DataFrame) -> pd.DataFrame:\n",
    "    \"\"\"Process PRAEGENDE_JUGENDJAHRE in data\"\"\"\n",
    "    year_map = {\n",
    "        np.nan: np.nan,\n",
    "        1: 4,\n",
    "        2: 4,\n",
    "        3: 5,\n",
    "        4: 5,\n",
    "        5: 6,\n",
    "        6: 6,\n",
    "        7: 6,\n",
    "        8: 7,\n",
    "        9: 7,\n",
    "       10: 8,\n",
    "       11: 8,\n",
    "       12: 8,\n",
    "       13: 8,\n",
    "       14: 9,\n",
    "       15: 9,\n",
    "    }\n",
    "    movement_map = {\n",
    "         np.nan: np.nan,\n",
    "         1: 0,\n",
    "         2: 1,\n",
    "         3: 0,\n",
    "         4: 1,\n",
    "         5: 0,\n",
    "         6: 1,\n",
    "         7: 1,\n",
    "         8: 0,\n",
    "         9: 1,\n",
    "        10: 0,\n",
    "        11: 1,\n",
    "        12: 0,\n",
    "        13: 1,\n",
    "        14: 0,\n",
    "        15: 1,\n",
    "    }\n",
    "\n",
    "    new_df = data.copy()\n",
    "    for name, mapping in [('decade', year_map), ('movement', movement_map)]:\n",
    "        new_df = map_unique_col(new_df, 'PRAEGENDE_JUGENDJAHRE', mapping, suffix=f'_{name}')\n",
    "    new_df = new_df.drop(['PRAEGENDE_JUGENDJAHRE'], axis=1)\n",
    "    return new_df\n",
    "\n",
    "def process_cameo_unique(df: pd.DataFrame) -> pd.DataFrame:\n",
    "    \"\"\"Process CAMEO_INTL_2015 data into ..._income and ..._life_stage columns dropping original\"\"\"\n",
    "    return (df.assign(CAMEO_INTL_2015_income=lambda df: df['CAMEO_INTL_2015'].str[0].astype('float'),\n",
    "                        CAMEO_INTL_2015_life_stage=lambda df: df['CAMEO_INTL_2015'].str[-1].astype('float'))\n",
    "              .drop(['CAMEO_INTL_2015'], axis=1))\n",
    "\n",
    "def process_wohnlage_unique(df: pd.DataFrame) -> pd.DataFrame:\n",
    "    col = 'WOHNLAGE'\n",
    "    \n",
    "    rural_map = {i: 0 for i in range(6)}\n",
    "    rural_map[7] = 1\n",
    "    rural_map[8] = 1\n",
    "    \n",
    "    quality_map = {i: np.nan for i in [7,8]}\n",
    "    \n",
    "    new_df = df.copy()\n",
    "    \n",
    "    for mapping, suffix in [(rural_map, '_rural'), (quality_map, '_location_quality')]:\n",
    "        new_df = map_unique_col(new_df, col, mapping, suffix=suffix)\n",
    "    return new_df.drop([col], axis=1)\n",
    "\n",
    "    \n",
    "def process_plz8_unique(df: pd.DataFrame) -> pd.DataFrame:\n",
    "    col = 'PLZ8_BAUMAX'\n",
    "    bus_map = {i: 0 for i in range(5)}\n",
    "    bus_map[5] = 1\n",
    "    fam_map = {5: np.nan}\n",
    "    \n",
    "    new_df = df.copy()\n",
    "    for mapping, suffix in [(bus_map, '_business'), (fam_map, '_housing_size')]:\n",
    "        new_df = map_unique_col(new_df, col, mapping, suffix=suffix)\n",
    "    return new_df.drop([col], axis=1)\n"
   ]
  },
  {
   "cell_type": "markdown",
   "metadata": {},
   "source": [
    "### Step 0: Load the Data\n",
    "\n",
    "There are four files associated with this project (not including this one):\n",
    "\n",
    "- `Udacity_AZDIAS_Subset.csv`: Demographics data for the general population of Germany; 891211 persons (rows) x 85 features (columns).\n",
    "- `Udacity_CUSTOMERS_Subset.csv`: Demographics data for customers of a mail-order company; 191652 persons (rows) x 85 features (columns).\n",
    "- `Data_Dictionary.md`: Detailed information file about the features in the provided datasets.\n",
    "- `AZDIAS_Feature_Summary.csv`: Summary of feature attributes for demographics data; 85 features (rows) x 4 columns\n",
    "\n",
    "Each row of the demographics files represents a single person, but also includes information outside of individuals, including information about their household, building, and neighborhood. You will use this information to cluster the general population into groups with similar demographic properties. Then, you will see how the people in the customers dataset fit into those created clusters. The hope here is that certain clusters are over-represented in the customers data, as compared to the general population; those over-represented clusters will be assumed to be part of the core userbase. This information can then be used for further applications, such as targeting for a marketing campaign.\n",
    "\n",
    "To start off with, load in the demographics data for the general population into a pandas DataFrame, and do the same for the feature attributes summary. Note for all of the `.csv` data files in this project: they're semicolon (`;`) delimited, so you'll need an additional argument in your [`read_csv()`](https://pandas.pydata.org/pandas-docs/stable/generated/pandas.read_csv.html) call to read in the data properly. Also, considering the size of the main dataset, it may take some time for it to load completely.\n",
    "\n",
    "Once the dataset is loaded, it's recommended that you take a little bit of time just browsing the general structure of the dataset and feature summary file. You'll be getting deep into the innards of the cleaning in the first major step of the project, so gaining some general familiarity can help you get your bearings."
   ]
  },
  {
   "cell_type": "code",
   "execution_count": 3,
   "metadata": {},
   "outputs": [],
   "source": [
    "# Load in the general demographics data.\n",
    "azdias = pd.read_csv('Udacity_AZDIAS_Subset.csv', delimiter=';')\n",
    "\n",
    "# Load in the feature summary file.\n",
    "feat_info = pd.read_csv('AZDIAS_Feature_Summary.csv', delimiter=';')"
   ]
  },
  {
   "cell_type": "code",
   "execution_count": 4,
   "metadata": {},
   "outputs": [
    {
     "name": "stdout",
     "output_type": "stream",
     "text": [
      "AZDIAS len: 891221\n"
     ]
    },
    {
     "data": {
      "text/html": [
       "<div>\n",
       "<style scoped>\n",
       "    .dataframe tbody tr th:only-of-type {\n",
       "        vertical-align: middle;\n",
       "    }\n",
       "\n",
       "    .dataframe tbody tr th {\n",
       "        vertical-align: top;\n",
       "    }\n",
       "\n",
       "    .dataframe thead th {\n",
       "        text-align: right;\n",
       "    }\n",
       "</style>\n",
       "<table border=\"1\" class=\"dataframe\">\n",
       "  <thead>\n",
       "    <tr style=\"text-align: right;\">\n",
       "      <th></th>\n",
       "      <th>AGER_TYP</th>\n",
       "      <th>ALTERSKATEGORIE_GROB</th>\n",
       "      <th>ANREDE_KZ</th>\n",
       "      <th>CJT_GESAMTTYP</th>\n",
       "      <th>FINANZ_MINIMALIST</th>\n",
       "      <th>FINANZ_SPARER</th>\n",
       "      <th>FINANZ_VORSORGER</th>\n",
       "      <th>FINANZ_ANLEGER</th>\n",
       "      <th>FINANZ_UNAUFFAELLIGER</th>\n",
       "      <th>FINANZ_HAUSBAUER</th>\n",
       "      <th>...</th>\n",
       "      <th>PLZ8_ANTG1</th>\n",
       "      <th>PLZ8_ANTG2</th>\n",
       "      <th>PLZ8_ANTG3</th>\n",
       "      <th>PLZ8_ANTG4</th>\n",
       "      <th>PLZ8_BAUMAX</th>\n",
       "      <th>PLZ8_HHZ</th>\n",
       "      <th>PLZ8_GBZ</th>\n",
       "      <th>ARBEIT</th>\n",
       "      <th>ORTSGR_KLS9</th>\n",
       "      <th>RELAT_AB</th>\n",
       "    </tr>\n",
       "  </thead>\n",
       "  <tbody>\n",
       "    <tr>\n",
       "      <th>0</th>\n",
       "      <td>-1</td>\n",
       "      <td>2</td>\n",
       "      <td>1</td>\n",
       "      <td>2.0</td>\n",
       "      <td>3</td>\n",
       "      <td>4</td>\n",
       "      <td>3</td>\n",
       "      <td>5</td>\n",
       "      <td>5</td>\n",
       "      <td>3</td>\n",
       "      <td>...</td>\n",
       "      <td>NaN</td>\n",
       "      <td>NaN</td>\n",
       "      <td>NaN</td>\n",
       "      <td>NaN</td>\n",
       "      <td>NaN</td>\n",
       "      <td>NaN</td>\n",
       "      <td>NaN</td>\n",
       "      <td>NaN</td>\n",
       "      <td>NaN</td>\n",
       "      <td>NaN</td>\n",
       "    </tr>\n",
       "    <tr>\n",
       "      <th>1</th>\n",
       "      <td>-1</td>\n",
       "      <td>1</td>\n",
       "      <td>2</td>\n",
       "      <td>5.0</td>\n",
       "      <td>1</td>\n",
       "      <td>5</td>\n",
       "      <td>2</td>\n",
       "      <td>5</td>\n",
       "      <td>4</td>\n",
       "      <td>5</td>\n",
       "      <td>...</td>\n",
       "      <td>2.0</td>\n",
       "      <td>3.0</td>\n",
       "      <td>2.0</td>\n",
       "      <td>1.0</td>\n",
       "      <td>1.0</td>\n",
       "      <td>5.0</td>\n",
       "      <td>4.0</td>\n",
       "      <td>3.0</td>\n",
       "      <td>5.0</td>\n",
       "      <td>4.0</td>\n",
       "    </tr>\n",
       "    <tr>\n",
       "      <th>2</th>\n",
       "      <td>-1</td>\n",
       "      <td>3</td>\n",
       "      <td>2</td>\n",
       "      <td>3.0</td>\n",
       "      <td>1</td>\n",
       "      <td>4</td>\n",
       "      <td>1</td>\n",
       "      <td>2</td>\n",
       "      <td>3</td>\n",
       "      <td>5</td>\n",
       "      <td>...</td>\n",
       "      <td>3.0</td>\n",
       "      <td>3.0</td>\n",
       "      <td>1.0</td>\n",
       "      <td>0.0</td>\n",
       "      <td>1.0</td>\n",
       "      <td>4.0</td>\n",
       "      <td>4.0</td>\n",
       "      <td>3.0</td>\n",
       "      <td>5.0</td>\n",
       "      <td>2.0</td>\n",
       "    </tr>\n",
       "    <tr>\n",
       "      <th>3</th>\n",
       "      <td>2</td>\n",
       "      <td>4</td>\n",
       "      <td>2</td>\n",
       "      <td>2.0</td>\n",
       "      <td>4</td>\n",
       "      <td>2</td>\n",
       "      <td>5</td>\n",
       "      <td>2</td>\n",
       "      <td>1</td>\n",
       "      <td>2</td>\n",
       "      <td>...</td>\n",
       "      <td>2.0</td>\n",
       "      <td>2.0</td>\n",
       "      <td>2.0</td>\n",
       "      <td>0.0</td>\n",
       "      <td>1.0</td>\n",
       "      <td>3.0</td>\n",
       "      <td>4.0</td>\n",
       "      <td>2.0</td>\n",
       "      <td>3.0</td>\n",
       "      <td>3.0</td>\n",
       "    </tr>\n",
       "    <tr>\n",
       "      <th>4</th>\n",
       "      <td>-1</td>\n",
       "      <td>3</td>\n",
       "      <td>1</td>\n",
       "      <td>5.0</td>\n",
       "      <td>4</td>\n",
       "      <td>3</td>\n",
       "      <td>4</td>\n",
       "      <td>1</td>\n",
       "      <td>3</td>\n",
       "      <td>2</td>\n",
       "      <td>...</td>\n",
       "      <td>2.0</td>\n",
       "      <td>4.0</td>\n",
       "      <td>2.0</td>\n",
       "      <td>1.0</td>\n",
       "      <td>2.0</td>\n",
       "      <td>3.0</td>\n",
       "      <td>3.0</td>\n",
       "      <td>4.0</td>\n",
       "      <td>6.0</td>\n",
       "      <td>5.0</td>\n",
       "    </tr>\n",
       "  </tbody>\n",
       "</table>\n",
       "<p>5 rows × 85 columns</p>\n",
       "</div>"
      ],
      "text/plain": [
       "   AGER_TYP  ALTERSKATEGORIE_GROB  ANREDE_KZ  CJT_GESAMTTYP  \\\n",
       "0        -1                     2          1            2.0   \n",
       "1        -1                     1          2            5.0   \n",
       "2        -1                     3          2            3.0   \n",
       "3         2                     4          2            2.0   \n",
       "4        -1                     3          1            5.0   \n",
       "\n",
       "   FINANZ_MINIMALIST  FINANZ_SPARER  FINANZ_VORSORGER  FINANZ_ANLEGER  \\\n",
       "0                  3              4                 3               5   \n",
       "1                  1              5                 2               5   \n",
       "2                  1              4                 1               2   \n",
       "3                  4              2                 5               2   \n",
       "4                  4              3                 4               1   \n",
       "\n",
       "   FINANZ_UNAUFFAELLIGER  FINANZ_HAUSBAUER  ...  PLZ8_ANTG1  PLZ8_ANTG2  \\\n",
       "0                      5                 3  ...         NaN         NaN   \n",
       "1                      4                 5  ...         2.0         3.0   \n",
       "2                      3                 5  ...         3.0         3.0   \n",
       "3                      1                 2  ...         2.0         2.0   \n",
       "4                      3                 2  ...         2.0         4.0   \n",
       "\n",
       "   PLZ8_ANTG3  PLZ8_ANTG4  PLZ8_BAUMAX  PLZ8_HHZ  PLZ8_GBZ  ARBEIT  \\\n",
       "0         NaN         NaN          NaN       NaN       NaN     NaN   \n",
       "1         2.0         1.0          1.0       5.0       4.0     3.0   \n",
       "2         1.0         0.0          1.0       4.0       4.0     3.0   \n",
       "3         2.0         0.0          1.0       3.0       4.0     2.0   \n",
       "4         2.0         1.0          2.0       3.0       3.0     4.0   \n",
       "\n",
       "   ORTSGR_KLS9  RELAT_AB  \n",
       "0          NaN       NaN  \n",
       "1          5.0       4.0  \n",
       "2          5.0       2.0  \n",
       "3          3.0       3.0  \n",
       "4          6.0       5.0  \n",
       "\n",
       "[5 rows x 85 columns]"
      ]
     },
     "metadata": {},
     "output_type": "display_data"
    },
    {
     "name": "stdout",
     "output_type": "stream",
     "text": [
      "Feat info : 85\n"
     ]
    },
    {
     "data": {
      "text/html": [
       "<div>\n",
       "<style scoped>\n",
       "    .dataframe tbody tr th:only-of-type {\n",
       "        vertical-align: middle;\n",
       "    }\n",
       "\n",
       "    .dataframe tbody tr th {\n",
       "        vertical-align: top;\n",
       "    }\n",
       "\n",
       "    .dataframe thead th {\n",
       "        text-align: right;\n",
       "    }\n",
       "</style>\n",
       "<table border=\"1\" class=\"dataframe\">\n",
       "  <thead>\n",
       "    <tr style=\"text-align: right;\">\n",
       "      <th></th>\n",
       "      <th>attribute</th>\n",
       "      <th>information_level</th>\n",
       "      <th>type</th>\n",
       "      <th>missing_or_unknown</th>\n",
       "    </tr>\n",
       "  </thead>\n",
       "  <tbody>\n",
       "    <tr>\n",
       "      <th>0</th>\n",
       "      <td>AGER_TYP</td>\n",
       "      <td>person</td>\n",
       "      <td>categorical</td>\n",
       "      <td>[-1,0]</td>\n",
       "    </tr>\n",
       "    <tr>\n",
       "      <th>1</th>\n",
       "      <td>ALTERSKATEGORIE_GROB</td>\n",
       "      <td>person</td>\n",
       "      <td>ordinal</td>\n",
       "      <td>[-1,0,9]</td>\n",
       "    </tr>\n",
       "    <tr>\n",
       "      <th>2</th>\n",
       "      <td>ANREDE_KZ</td>\n",
       "      <td>person</td>\n",
       "      <td>categorical</td>\n",
       "      <td>[-1,0]</td>\n",
       "    </tr>\n",
       "    <tr>\n",
       "      <th>3</th>\n",
       "      <td>CJT_GESAMTTYP</td>\n",
       "      <td>person</td>\n",
       "      <td>categorical</td>\n",
       "      <td>[0]</td>\n",
       "    </tr>\n",
       "    <tr>\n",
       "      <th>4</th>\n",
       "      <td>FINANZ_MINIMALIST</td>\n",
       "      <td>person</td>\n",
       "      <td>ordinal</td>\n",
       "      <td>[-1]</td>\n",
       "    </tr>\n",
       "  </tbody>\n",
       "</table>\n",
       "</div>"
      ],
      "text/plain": [
       "              attribute information_level         type missing_or_unknown\n",
       "0              AGER_TYP            person  categorical             [-1,0]\n",
       "1  ALTERSKATEGORIE_GROB            person      ordinal           [-1,0,9]\n",
       "2             ANREDE_KZ            person  categorical             [-1,0]\n",
       "3         CJT_GESAMTTYP            person  categorical                [0]\n",
       "4     FINANZ_MINIMALIST            person      ordinal               [-1]"
      ]
     },
     "metadata": {},
     "output_type": "display_data"
    }
   ],
   "source": [
    "# Check the structure of the data after it's loaded (e.g. print the number of\n",
    "# rows and columns, print the first few rows).\n",
    "from IPython.display import display\n",
    "print('AZDIAS len:', len(azdias))\n",
    "display(azdias.head())\n",
    "\n",
    "print('Feat info :', len(feat_info))\n",
    "display(feat_info.head())"
   ]
  },
  {
   "cell_type": "markdown",
   "metadata": {},
   "source": [
    "> **Tip**: Add additional cells to keep everything in reasonably-sized chunks! Keyboard shortcut `esc --> a` (press escape to enter command mode, then press the 'A' key) adds a new cell before the active cell, and `esc --> b` adds a new cell after the active cell. If you need to convert an active cell to a markdown cell, use `esc --> m` and to convert to a code cell, use `esc --> y`. \n",
    "\n",
    "## Step 1: Preprocessing\n",
    "\n",
    "### Step 1.1: Assess Missing Data\n",
    "\n",
    "The feature summary file contains a summary of properties for each demographics data column. You will use this file to help you make cleaning decisions during this stage of the project. First of all, you should assess the demographics data in terms of missing data. Pay attention to the following points as you perform your analysis, and take notes on what you observe. Make sure that you fill in the **Discussion** cell with your findings and decisions at the end of each step that has one!\n",
    "\n",
    "#### Step 1.1.1: Convert Missing Value Codes to NaNs\n",
    "The fourth column of the feature attributes summary (loaded in above as `feat_info`) documents the codes from the data dictionary that indicate missing or unknown data. While the file encodes this as a list (e.g. `[-1,0]`), this will get read in as a string object. You'll need to do a little bit of parsing to make use of it to identify and clean the data. Convert data that matches a 'missing' or 'unknown' value code into a numpy NaN value. You might want to see how much data takes on a 'missing' or 'unknown' code, and how much data is naturally missing, as a point of interest.\n",
    "\n",
    "**As one more reminder, you are encouraged to add additional cells to break up your analysis into manageable chunks.**"
   ]
  },
  {
   "cell_type": "code",
   "execution_count": 5,
   "metadata": {},
   "outputs": [
    {
     "data": {
      "text/html": [
       "<div>\n",
       "<style scoped>\n",
       "    .dataframe tbody tr th:only-of-type {\n",
       "        vertical-align: middle;\n",
       "    }\n",
       "\n",
       "    .dataframe tbody tr th {\n",
       "        vertical-align: top;\n",
       "    }\n",
       "\n",
       "    .dataframe thead th {\n",
       "        text-align: right;\n",
       "    }\n",
       "</style>\n",
       "<table border=\"1\" class=\"dataframe\">\n",
       "  <thead>\n",
       "    <tr style=\"text-align: right;\">\n",
       "      <th></th>\n",
       "      <th>attribute</th>\n",
       "      <th>information_level</th>\n",
       "      <th>type</th>\n",
       "      <th>missing_or_unknown</th>\n",
       "    </tr>\n",
       "  </thead>\n",
       "  <tbody>\n",
       "    <tr>\n",
       "      <th>0</th>\n",
       "      <td>AGER_TYP</td>\n",
       "      <td>person</td>\n",
       "      <td>categorical</td>\n",
       "      <td>[-1,0]</td>\n",
       "    </tr>\n",
       "    <tr>\n",
       "      <th>1</th>\n",
       "      <td>ALTERSKATEGORIE_GROB</td>\n",
       "      <td>person</td>\n",
       "      <td>ordinal</td>\n",
       "      <td>[-1,0,9]</td>\n",
       "    </tr>\n",
       "    <tr>\n",
       "      <th>2</th>\n",
       "      <td>ANREDE_KZ</td>\n",
       "      <td>person</td>\n",
       "      <td>categorical</td>\n",
       "      <td>[-1,0]</td>\n",
       "    </tr>\n",
       "    <tr>\n",
       "      <th>3</th>\n",
       "      <td>CJT_GESAMTTYP</td>\n",
       "      <td>person</td>\n",
       "      <td>categorical</td>\n",
       "      <td>[0]</td>\n",
       "    </tr>\n",
       "    <tr>\n",
       "      <th>4</th>\n",
       "      <td>FINANZ_MINIMALIST</td>\n",
       "      <td>person</td>\n",
       "      <td>ordinal</td>\n",
       "      <td>[-1]</td>\n",
       "    </tr>\n",
       "  </tbody>\n",
       "</table>\n",
       "</div>"
      ],
      "text/plain": [
       "              attribute information_level         type missing_or_unknown\n",
       "0              AGER_TYP            person  categorical             [-1,0]\n",
       "1  ALTERSKATEGORIE_GROB            person      ordinal           [-1,0,9]\n",
       "2             ANREDE_KZ            person  categorical             [-1,0]\n",
       "3         CJT_GESAMTTYP            person  categorical                [0]\n",
       "4     FINANZ_MINIMALIST            person      ordinal               [-1]"
      ]
     },
     "execution_count": 5,
     "metadata": {},
     "output_type": "execute_result"
    }
   ],
   "source": [
    "feat_info.head()"
   ]
  },
  {
   "cell_type": "code",
   "execution_count": 6,
   "metadata": {},
   "outputs": [],
   "source": [
    "# Identify missing or unknown data values and convert them to NaNs.\n",
    "azdias = convert_nans(azdias, feat_info)"
   ]
  },
  {
   "cell_type": "markdown",
   "metadata": {},
   "source": [
    "#### Step 1.1.2: Assess Missing Data in Each Column\n",
    "\n",
    "How much missing data is present in each column? There are a few columns that are outliers in terms of the proportion of values that are missing. You will want to use matplotlib's [`hist()`](https://matplotlib.org/api/_as_gen/matplotlib.pyplot.hist.html) function to visualize the distribution of missing value counts to find these columns. Identify and document these columns. While some of these columns might have justifications for keeping or re-encoding the data, for this project you should just remove them from the dataframe. (Feel free to make remarks about these outlier columns in the discussion, however!)\n",
    "\n",
    "For the remaining features, are there any patterns in which columns have, or share, missing data?"
   ]
  },
  {
   "cell_type": "code",
   "execution_count": 7,
   "metadata": {},
   "outputs": [],
   "source": [
    "# Perform an assessment of how much missing data there is in each column of the\n",
    "# dataset.\n"
   ]
  },
  {
   "cell_type": "code",
   "execution_count": 8,
   "metadata": {},
   "outputs": [],
   "source": [
    "na_hist = get_na_freq(azdias)"
   ]
  },
  {
   "cell_type": "code",
   "execution_count": 9,
   "metadata": {},
   "outputs": [
    {
     "data": {
      "image/png": "[encoded data removed]",
      "text/plain": [
       "<Figure size 432x288 with 1 Axes>"
      ]
     },
     "metadata": {
      "needs_background": "light"
     },
     "output_type": "display_data"
    }
   ],
   "source": [
    "plt.hist(na_hist.set_index('Attribute')['Freq'], bins=50)\n",
    "plt.xlabel('Missing Values')\n",
    "plt.ylabel('Columns')\n",
    "plt.title('Histogram of Missing Values')\n",
    "plt.show()"
   ]
  },
  {
   "cell_type": "code",
   "execution_count": 10,
   "metadata": {},
   "outputs": [],
   "source": [
    "# Investigate patterns in the amount of missing data in each column.\n"
   ]
  },
  {
   "cell_type": "code",
   "execution_count": 11,
   "metadata": {},
   "outputs": [
    {
     "data": {
      "image/png": "[encoded data removed]",
      "text/plain": [
       "<Figure size 864x864 with 9 Axes>"
      ]
     },
     "metadata": {
      "needs_background": "light"
     },
     "output_type": "display_data"
    }
   ],
   "source": [
    "na_hist = get_na_freq(azdias)\n",
    "dim = (3,3)\n",
    "fig, axs = plt.subplots(dim[0],dim[1], tight_layout=True, figsize=(12,12))\n",
    "for i in range(dim[0]*dim[1]):\n",
    "    ax = plt.subplot(dim[0],dim[1], i+1)\n",
    "    sns.barplot(x='Attribute', y='Percent', \n",
    "                data=na_hist.iloc[(i*10):((i+1)*10), :], ax=ax)  \n",
    "                #, ax=axs[i//3,i%3])\n",
    "    plt.xticks(rotation=90)\n",
    "    ax.set_title(\n",
    "        f'% of Fields that contain NaNs [{i*10}, {(i+1)*10})\\n(% of total)'\n",
    "    )\n",
    "\n",
    "plt.show()\n"
   ]
  },
  {
   "cell_type": "code",
   "execution_count": 12,
   "metadata": {},
   "outputs": [],
   "source": [
    "# Remove the outlier columns from the dataset. (You'll perform other data\n",
    "# engineering tasks such as re-encoding and imputation later.)"
   ]
  },
  {
   "cell_type": "code",
   "execution_count": 13,
   "metadata": {},
   "outputs": [
    {
     "name": "stdout",
     "output_type": "stream",
     "text": [
      "Removed following fields:\n",
      " 0        TITEL_KZ\n",
      "1        AGER_TYP\n",
      "2    KK_KUNDENTYP\n",
      "3    KBA05_BAUMAX\n",
      "4     GEBURTSJAHR\n",
      "5        ALTER_HH\n",
      "Name: Attribute, dtype: object\n"
     ]
    },
    {
     "data": {
      "text/html": [
       "<div>\n",
       "<style scoped>\n",
       "    .dataframe tbody tr th:only-of-type {\n",
       "        vertical-align: middle;\n",
       "    }\n",
       "\n",
       "    .dataframe tbody tr th {\n",
       "        vertical-align: top;\n",
       "    }\n",
       "\n",
       "    .dataframe thead th {\n",
       "        text-align: right;\n",
       "    }\n",
       "</style>\n",
       "<table border=\"1\" class=\"dataframe\">\n",
       "  <thead>\n",
       "    <tr style=\"text-align: right;\">\n",
       "      <th></th>\n",
       "      <th>ALTERSKATEGORIE_GROB</th>\n",
       "      <th>ANREDE_KZ</th>\n",
       "      <th>CJT_GESAMTTYP</th>\n",
       "      <th>FINANZ_MINIMALIST</th>\n",
       "      <th>FINANZ_SPARER</th>\n",
       "      <th>FINANZ_VORSORGER</th>\n",
       "      <th>FINANZ_ANLEGER</th>\n",
       "      <th>FINANZ_UNAUFFAELLIGER</th>\n",
       "      <th>FINANZ_HAUSBAUER</th>\n",
       "      <th>FINANZTYP</th>\n",
       "      <th>...</th>\n",
       "      <th>PLZ8_ANTG1</th>\n",
       "      <th>PLZ8_ANTG2</th>\n",
       "      <th>PLZ8_ANTG3</th>\n",
       "      <th>PLZ8_ANTG4</th>\n",
       "      <th>PLZ8_BAUMAX</th>\n",
       "      <th>PLZ8_HHZ</th>\n",
       "      <th>PLZ8_GBZ</th>\n",
       "      <th>ARBEIT</th>\n",
       "      <th>ORTSGR_KLS9</th>\n",
       "      <th>RELAT_AB</th>\n",
       "    </tr>\n",
       "  </thead>\n",
       "  <tbody>\n",
       "    <tr>\n",
       "      <th>0</th>\n",
       "      <td>2.0</td>\n",
       "      <td>1.0</td>\n",
       "      <td>2.0</td>\n",
       "      <td>3.0</td>\n",
       "      <td>4.0</td>\n",
       "      <td>3.0</td>\n",
       "      <td>5.0</td>\n",
       "      <td>5.0</td>\n",
       "      <td>3.0</td>\n",
       "      <td>4.0</td>\n",
       "      <td>...</td>\n",
       "      <td>NaN</td>\n",
       "      <td>NaN</td>\n",
       "      <td>NaN</td>\n",
       "      <td>NaN</td>\n",
       "      <td>NaN</td>\n",
       "      <td>NaN</td>\n",
       "      <td>NaN</td>\n",
       "      <td>NaN</td>\n",
       "      <td>NaN</td>\n",
       "      <td>NaN</td>\n",
       "    </tr>\n",
       "    <tr>\n",
       "      <th>1</th>\n",
       "      <td>1.0</td>\n",
       "      <td>2.0</td>\n",
       "      <td>5.0</td>\n",
       "      <td>1.0</td>\n",
       "      <td>5.0</td>\n",
       "      <td>2.0</td>\n",
       "      <td>5.0</td>\n",
       "      <td>4.0</td>\n",
       "      <td>5.0</td>\n",
       "      <td>1.0</td>\n",
       "      <td>...</td>\n",
       "      <td>2.0</td>\n",
       "      <td>3.0</td>\n",
       "      <td>2.0</td>\n",
       "      <td>1.0</td>\n",
       "      <td>1.0</td>\n",
       "      <td>5.0</td>\n",
       "      <td>4.0</td>\n",
       "      <td>3.0</td>\n",
       "      <td>5.0</td>\n",
       "      <td>4.0</td>\n",
       "    </tr>\n",
       "    <tr>\n",
       "      <th>2</th>\n",
       "      <td>3.0</td>\n",
       "      <td>2.0</td>\n",
       "      <td>3.0</td>\n",
       "      <td>1.0</td>\n",
       "      <td>4.0</td>\n",
       "      <td>1.0</td>\n",
       "      <td>2.0</td>\n",
       "      <td>3.0</td>\n",
       "      <td>5.0</td>\n",
       "      <td>1.0</td>\n",
       "      <td>...</td>\n",
       "      <td>3.0</td>\n",
       "      <td>3.0</td>\n",
       "      <td>1.0</td>\n",
       "      <td>0.0</td>\n",
       "      <td>1.0</td>\n",
       "      <td>4.0</td>\n",
       "      <td>4.0</td>\n",
       "      <td>3.0</td>\n",
       "      <td>5.0</td>\n",
       "      <td>2.0</td>\n",
       "    </tr>\n",
       "    <tr>\n",
       "      <th>3</th>\n",
       "      <td>4.0</td>\n",
       "      <td>2.0</td>\n",
       "      <td>2.0</td>\n",
       "      <td>4.0</td>\n",
       "      <td>2.0</td>\n",
       "      <td>5.0</td>\n",
       "      <td>2.0</td>\n",
       "      <td>1.0</td>\n",
       "      <td>2.0</td>\n",
       "      <td>6.0</td>\n",
       "      <td>...</td>\n",
       "      <td>2.0</td>\n",
       "      <td>2.0</td>\n",
       "      <td>2.0</td>\n",
       "      <td>0.0</td>\n",
       "      <td>1.0</td>\n",
       "      <td>3.0</td>\n",
       "      <td>4.0</td>\n",
       "      <td>2.0</td>\n",
       "      <td>3.0</td>\n",
       "      <td>3.0</td>\n",
       "    </tr>\n",
       "    <tr>\n",
       "      <th>4</th>\n",
       "      <td>3.0</td>\n",
       "      <td>1.0</td>\n",
       "      <td>5.0</td>\n",
       "      <td>4.0</td>\n",
       "      <td>3.0</td>\n",
       "      <td>4.0</td>\n",
       "      <td>1.0</td>\n",
       "      <td>3.0</td>\n",
       "      <td>2.0</td>\n",
       "      <td>5.0</td>\n",
       "      <td>...</td>\n",
       "      <td>2.0</td>\n",
       "      <td>4.0</td>\n",
       "      <td>2.0</td>\n",
       "      <td>1.0</td>\n",
       "      <td>2.0</td>\n",
       "      <td>3.0</td>\n",
       "      <td>3.0</td>\n",
       "      <td>4.0</td>\n",
       "      <td>6.0</td>\n",
       "      <td>5.0</td>\n",
       "    </tr>\n",
       "  </tbody>\n",
       "</table>\n",
       "<p>5 rows × 79 columns</p>\n",
       "</div>"
      ],
      "text/plain": [
       "   ALTERSKATEGORIE_GROB  ANREDE_KZ  CJT_GESAMTTYP  FINANZ_MINIMALIST  \\\n",
       "0                   2.0        1.0            2.0                3.0   \n",
       "1                   1.0        2.0            5.0                1.0   \n",
       "2                   3.0        2.0            3.0                1.0   \n",
       "3                   4.0        2.0            2.0                4.0   \n",
       "4                   3.0        1.0            5.0                4.0   \n",
       "\n",
       "   FINANZ_SPARER  FINANZ_VORSORGER  FINANZ_ANLEGER  FINANZ_UNAUFFAELLIGER  \\\n",
       "0            4.0               3.0             5.0                    5.0   \n",
       "1            5.0               2.0             5.0                    4.0   \n",
       "2            4.0               1.0             2.0                    3.0   \n",
       "3            2.0               5.0             2.0                    1.0   \n",
       "4            3.0               4.0             1.0                    3.0   \n",
       "\n",
       "   FINANZ_HAUSBAUER  FINANZTYP  ...  PLZ8_ANTG1  PLZ8_ANTG2  PLZ8_ANTG3  \\\n",
       "0               3.0        4.0  ...         NaN         NaN         NaN   \n",
       "1               5.0        1.0  ...         2.0         3.0         2.0   \n",
       "2               5.0        1.0  ...         3.0         3.0         1.0   \n",
       "3               2.0        6.0  ...         2.0         2.0         2.0   \n",
       "4               2.0        5.0  ...         2.0         4.0         2.0   \n",
       "\n",
       "   PLZ8_ANTG4  PLZ8_BAUMAX  PLZ8_HHZ  PLZ8_GBZ  ARBEIT  ORTSGR_KLS9  RELAT_AB  \n",
       "0         NaN          NaN       NaN       NaN     NaN          NaN       NaN  \n",
       "1         1.0          1.0       5.0       4.0     3.0          5.0       4.0  \n",
       "2         0.0          1.0       4.0       4.0     3.0          5.0       2.0  \n",
       "3         0.0          1.0       3.0       4.0     2.0          3.0       3.0  \n",
       "4         1.0          2.0       3.0       3.0     4.0          6.0       5.0  \n",
       "\n",
       "[5 rows x 79 columns]"
      ]
     },
     "execution_count": 13,
     "metadata": {},
     "output_type": "execute_result"
    }
   ],
   "source": [
    "top_n = 6\n",
    "azdias, dropped_cols = remove_empty_cols(azdias, top_n)\n",
    "print('Removed following fields:\\n', na_hist.iloc[:top_n, :]['Attribute'])\n",
    "azdias.head()"
   ]
  },
  {
   "cell_type": "markdown",
   "metadata": {},
   "source": [
    "#### Discussion 1.1.2: Assess Missing Data in Each Column\n",
    "\n",
    "(Double click this cell and replace this text with your own text, reporting your observations regarding the amount of missing data in each column. Are there any patterns in missing values? Which columns were removed from the dataset?)\n",
    "\n",
    "*[ACM] 6 fields were removed which contained a large % of missing data. TITEL_KZ, AGER_TYP, KK_KUNDENTYP, KBA05_BAUMAX, GEBURTSJAHR, and ALTER_HH all contained missing values > 20% of the entire dataset. Of the remaining fields, missing data does still exists, but is <20% of the corpus and can be managed while maintining statistical significance.*\n",
    "\n",
    "---\n"
   ]
  },
  {
   "cell_type": "markdown",
   "metadata": {},
   "source": [
    "#### Step 1.1.3: Assess Missing Data in Each Row\n",
    "\n",
    "Now, you'll perform a similar assessment for the rows of the dataset. How much data is missing in each row? As with the columns, you should see some groups of points that have a very different numbers of missing values. Divide the data into two subsets: one for data points that are above some threshold for missing values, and a second subset for points below that threshold.\n",
    "\n",
    "In order to know what to do with the outlier rows, we should see if the distribution of data values on columns that are not missing data (or are missing very little data) are similar or different between the two groups. Select at least five of these columns and compare the distribution of values.\n",
    "- You can use seaborn's [`countplot()`](https://seaborn.pydata.org/generated/seaborn.countplot.html) function to create a bar chart of code frequencies and matplotlib's [`subplot()`](https://matplotlib.org/api/_as_gen/matplotlib.pyplot.subplot.html) function to put bar charts for the two subplots side by side.\n",
    "- To reduce repeated code, you might want to write a function that can perform this comparison, taking as one of its arguments a column to be compared.\n",
    "\n",
    "Depending on what you observe in your comparison, this will have implications on how you approach your conclusions later in the analysis. If the distributions of non-missing features look similar between the data with many missing values and the data with few or no missing values, then we could argue that simply dropping those points from the analysis won't present a major issue. On the other hand, if the data with many missing values looks very different from the data with few or no missing values, then we should make a note on those data as special. We'll revisit these data later on. **Either way, you should continue your analysis for now using just the subset of the data with few or no missing values.**"
   ]
  },
  {
   "cell_type": "code",
   "execution_count": 14,
   "metadata": {},
   "outputs": [],
   "source": [
    "na_hist_idx = get_na_freq(azdias, axis=1)"
   ]
  },
  {
   "cell_type": "code",
   "execution_count": 15,
   "metadata": {},
   "outputs": [
    {
     "data": {
      "image/png": "[encoded data removed]",
      "text/plain": [
       "<Figure size 432x288 with 1 Axes>"
      ]
     },
     "metadata": {
      "needs_background": "light"
     },
     "output_type": "display_data"
    }
   ],
   "source": [
    "# How much data is missing in each row of the dataset?\n",
    "plt.hist(na_hist_idx['Freq'], bins=50)\n",
    "plt.xlabel('Missing Values')\n",
    "plt.ylabel('Columns')\n",
    "plt.title('Histogram of Missing Values (Rows)')\n",
    "plt.show()\n"
   ]
  },
  {
   "cell_type": "code",
   "execution_count": 16,
   "metadata": {},
   "outputs": [],
   "source": [
    "# Write code to divide the data into two subsets based on the number of missing\n",
    "# values in each row.\n",
    "\n"
   ]
  },
  {
   "cell_type": "code",
   "execution_count": 17,
   "metadata": {},
   "outputs": [],
   "source": [
    "threshold = 2\n",
    "filtered_azdias, df2 = split_on_nan(azdias, threshold)"
   ]
  },
  {
   "cell_type": "code",
   "execution_count": 18,
   "metadata": {},
   "outputs": [
    {
     "data": {
      "text/html": [
       "<div>\n",
       "<style scoped>\n",
       "    .dataframe tbody tr th:only-of-type {\n",
       "        vertical-align: middle;\n",
       "    }\n",
       "\n",
       "    .dataframe tbody tr th {\n",
       "        vertical-align: top;\n",
       "    }\n",
       "\n",
       "    .dataframe thead th {\n",
       "        text-align: right;\n",
       "    }\n",
       "</style>\n",
       "<table border=\"1\" class=\"dataframe\">\n",
       "  <thead>\n",
       "    <tr style=\"text-align: right;\">\n",
       "      <th></th>\n",
       "      <th>Index</th>\n",
       "      <th>Freq</th>\n",
       "      <th>Percent</th>\n",
       "    </tr>\n",
       "  </thead>\n",
       "  <tbody>\n",
       "    <tr>\n",
       "      <th>0</th>\n",
       "      <td>732775</td>\n",
       "      <td>49</td>\n",
       "      <td>62.025316</td>\n",
       "    </tr>\n",
       "    <tr>\n",
       "      <th>1</th>\n",
       "      <td>643174</td>\n",
       "      <td>49</td>\n",
       "      <td>62.025316</td>\n",
       "    </tr>\n",
       "    <tr>\n",
       "      <th>2</th>\n",
       "      <td>472919</td>\n",
       "      <td>48</td>\n",
       "      <td>60.759494</td>\n",
       "    </tr>\n",
       "    <tr>\n",
       "      <th>3</th>\n",
       "      <td>345274</td>\n",
       "      <td>47</td>\n",
       "      <td>59.493671</td>\n",
       "    </tr>\n",
       "    <tr>\n",
       "      <th>4</th>\n",
       "      <td>299868</td>\n",
       "      <td>47</td>\n",
       "      <td>59.493671</td>\n",
       "    </tr>\n",
       "  </tbody>\n",
       "</table>\n",
       "</div>"
      ],
      "text/plain": [
       "    Index  Freq    Percent\n",
       "0  732775    49  62.025316\n",
       "1  643174    49  62.025316\n",
       "2  472919    48  60.759494\n",
       "3  345274    47  59.493671\n",
       "4  299868    47  59.493671"
      ]
     },
     "execution_count": 18,
     "metadata": {},
     "output_type": "execute_result"
    }
   ],
   "source": [
    "na_hist_idx.head()"
   ]
  },
  {
   "cell_type": "code",
   "execution_count": 19,
   "metadata": {},
   "outputs": [],
   "source": [
    "# Compare the distribution of values for at least five columns where there are\n",
    "# no or few missing values, between the two subsets.\n",
    "\n"
   ]
  },
  {
   "cell_type": "code",
   "execution_count": 20,
   "metadata": {},
   "outputs": [],
   "source": [
    "def plot_data_split(df, threshold, attribs=None, *, figsize=(12, 24)):\n",
    "    \"\"\"Plot data comparison when split given a threshold (using split_on_nan)\"\"\"\n",
    "    l_df, r_df = split_on_nan(df, threshold=threshold)\n",
    "    \n",
    "    xdata = attribs\n",
    "    \n",
    "    fig, axs = plt.subplots(len(xdata), 2, figsize=figsize)\n",
    "    for j in range(len(xdata)):\n",
    "        for i, df in zip(range(2), (l_df, r_df)):\n",
    "            sns.countplot(x=xdata[j], data=df, ax=axs[j, i])\n",
    "    return fig\n",
    "\n",
    "def plot_random_data_split(df, threshold, *, rows=5, figsize=(12, 24), seed=42):\n",
    "    \"\"\"\n",
    "    Plot random data comparison when split given a threshold \n",
    "    (using split_on_nan)\n",
    "    \"\"\"\n",
    "    np.random.seed(seed)\n",
    "    idx = np.random.randint(len(df.columns), size=rows)\n",
    "    xdata = df.columns[idx]\n",
    "    \n",
    "    fig = plot_data_split(df, threshold, attribs=xdata)\n",
    "    return fig"
   ]
  },
  {
   "cell_type": "code",
   "execution_count": 21,
   "metadata": {},
   "outputs": [
    {
     "data": {
      "image/png": "[encoded data removed]",
      "text/plain": [
       "<Figure size 864x1728 with 10 Axes>"
      ]
     },
     "metadata": {
      "needs_background": "light"
     },
     "output_type": "display_data"
    }
   ],
   "source": [
    "plot_random_data_split(azdias, 1);\n",
    "azdias = filtered_azdias  # assign azdias to new filter after plotting resultant"
   ]
  },
  {
   "cell_type": "code",
   "execution_count": 24,
   "metadata": {},
   "outputs": [
    {
     "name": "stdout",
     "output_type": "stream",
     "text": [
      "number of discarded rows: 224348\n",
      "number of kept rows: 666873\n",
      "Statistics of cleaned dataset: \n"
     ]
    },
    {
     "data": {
      "text/html": [
       "<div>\n",
       "<style scoped>\n",
       "    .dataframe tbody tr th:only-of-type {\n",
       "        vertical-align: middle;\n",
       "    }\n",
       "\n",
       "    .dataframe tbody tr th {\n",
       "        vertical-align: top;\n",
       "    }\n",
       "\n",
       "    .dataframe thead th {\n",
       "        text-align: right;\n",
       "    }\n",
       "</style>\n",
       "<table border=\"1\" class=\"dataframe\">\n",
       "  <thead>\n",
       "    <tr style=\"text-align: right;\">\n",
       "      <th></th>\n",
       "      <th>count</th>\n",
       "      <th>mean</th>\n",
       "      <th>std</th>\n",
       "      <th>min</th>\n",
       "      <th>25%</th>\n",
       "      <th>50%</th>\n",
       "      <th>75%</th>\n",
       "      <th>max</th>\n",
       "    </tr>\n",
       "  </thead>\n",
       "  <tbody>\n",
       "    <tr>\n",
       "      <th>ALTERSKATEGORIE_GROB</th>\n",
       "      <td>666873.0</td>\n",
       "      <td>2.800527</td>\n",
       "      <td>1.033430</td>\n",
       "      <td>1.0</td>\n",
       "      <td>2.0</td>\n",
       "      <td>3.0</td>\n",
       "      <td>4.0</td>\n",
       "      <td>4.0</td>\n",
       "    </tr>\n",
       "    <tr>\n",
       "      <th>ANREDE_KZ</th>\n",
       "      <td>666873.0</td>\n",
       "      <td>1.512865</td>\n",
       "      <td>0.499835</td>\n",
       "      <td>1.0</td>\n",
       "      <td>1.0</td>\n",
       "      <td>2.0</td>\n",
       "      <td>2.0</td>\n",
       "      <td>2.0</td>\n",
       "    </tr>\n",
       "    <tr>\n",
       "      <th>CJT_GESAMTTYP</th>\n",
       "      <td>666873.0</td>\n",
       "      <td>3.461043</td>\n",
       "      <td>1.526737</td>\n",
       "      <td>1.0</td>\n",
       "      <td>2.0</td>\n",
       "      <td>4.0</td>\n",
       "      <td>5.0</td>\n",
       "      <td>6.0</td>\n",
       "    </tr>\n",
       "    <tr>\n",
       "      <th>FINANZ_MINIMALIST</th>\n",
       "      <td>666873.0</td>\n",
       "      <td>3.070738</td>\n",
       "      <td>1.363824</td>\n",
       "      <td>1.0</td>\n",
       "      <td>2.0</td>\n",
       "      <td>3.0</td>\n",
       "      <td>4.0</td>\n",
       "      <td>5.0</td>\n",
       "    </tr>\n",
       "    <tr>\n",
       "      <th>FINANZ_SPARER</th>\n",
       "      <td>666873.0</td>\n",
       "      <td>2.664608</td>\n",
       "      <td>1.474004</td>\n",
       "      <td>1.0</td>\n",
       "      <td>1.0</td>\n",
       "      <td>2.0</td>\n",
       "      <td>4.0</td>\n",
       "      <td>5.0</td>\n",
       "    </tr>\n",
       "    <tr>\n",
       "      <th>...</th>\n",
       "      <td>...</td>\n",
       "      <td>...</td>\n",
       "      <td>...</td>\n",
       "      <td>...</td>\n",
       "      <td>...</td>\n",
       "      <td>...</td>\n",
       "      <td>...</td>\n",
       "      <td>...</td>\n",
       "    </tr>\n",
       "    <tr>\n",
       "      <th>PLZ8_HHZ</th>\n",
       "      <td>666873.0</td>\n",
       "      <td>3.611568</td>\n",
       "      <td>0.968041</td>\n",
       "      <td>1.0</td>\n",
       "      <td>3.0</td>\n",
       "      <td>3.0</td>\n",
       "      <td>4.0</td>\n",
       "      <td>5.0</td>\n",
       "    </tr>\n",
       "    <tr>\n",
       "      <th>PLZ8_GBZ</th>\n",
       "      <td>666873.0</td>\n",
       "      <td>3.366023</td>\n",
       "      <td>1.112856</td>\n",
       "      <td>1.0</td>\n",
       "      <td>3.0</td>\n",
       "      <td>3.0</td>\n",
       "      <td>4.0</td>\n",
       "      <td>5.0</td>\n",
       "    </tr>\n",
       "    <tr>\n",
       "      <th>ARBEIT</th>\n",
       "      <td>666805.0</td>\n",
       "      <td>3.187038</td>\n",
       "      <td>0.994153</td>\n",
       "      <td>1.0</td>\n",
       "      <td>3.0</td>\n",
       "      <td>3.0</td>\n",
       "      <td>4.0</td>\n",
       "      <td>5.0</td>\n",
       "    </tr>\n",
       "    <tr>\n",
       "      <th>ORTSGR_KLS9</th>\n",
       "      <td>666873.0</td>\n",
       "      <td>5.334092</td>\n",
       "      <td>2.300301</td>\n",
       "      <td>1.0</td>\n",
       "      <td>4.0</td>\n",
       "      <td>5.0</td>\n",
       "      <td>7.0</td>\n",
       "      <td>9.0</td>\n",
       "    </tr>\n",
       "    <tr>\n",
       "      <th>RELAT_AB</th>\n",
       "      <td>666805.0</td>\n",
       "      <td>3.090815</td>\n",
       "      <td>1.355068</td>\n",
       "      <td>1.0</td>\n",
       "      <td>2.0</td>\n",
       "      <td>3.0</td>\n",
       "      <td>4.0</td>\n",
       "      <td>5.0</td>\n",
       "    </tr>\n",
       "  </tbody>\n",
       "</table>\n",
       "<p>75 rows × 8 columns</p>\n",
       "</div>"
      ],
      "text/plain": [
       "                         count      mean       std  min  25%  50%  75%  max\n",
       "ALTERSKATEGORIE_GROB  666873.0  2.800527  1.033430  1.0  2.0  3.0  4.0  4.0\n",
       "ANREDE_KZ             666873.0  1.512865  0.499835  1.0  1.0  2.0  2.0  2.0\n",
       "CJT_GESAMTTYP         666873.0  3.461043  1.526737  1.0  2.0  4.0  5.0  6.0\n",
       "FINANZ_MINIMALIST     666873.0  3.070738  1.363824  1.0  2.0  3.0  4.0  5.0\n",
       "FINANZ_SPARER         666873.0  2.664608  1.474004  1.0  1.0  2.0  4.0  5.0\n",
       "...                        ...       ...       ...  ...  ...  ...  ...  ...\n",
       "PLZ8_HHZ              666873.0  3.611568  0.968041  1.0  3.0  3.0  4.0  5.0\n",
       "PLZ8_GBZ              666873.0  3.366023  1.112856  1.0  3.0  3.0  4.0  5.0\n",
       "ARBEIT                666805.0  3.187038  0.994153  1.0  3.0  3.0  4.0  5.0\n",
       "ORTSGR_KLS9           666873.0  5.334092  2.300301  1.0  4.0  5.0  7.0  9.0\n",
       "RELAT_AB              666805.0  3.090815  1.355068  1.0  2.0  3.0  4.0  5.0\n",
       "\n",
       "[75 rows x 8 columns]"
      ]
     },
     "metadata": {},
     "output_type": "display_data"
    },
    {
     "name": "stdout",
     "output_type": "stream",
     "text": [
      "Statistics of discarded dataset: \n"
     ]
    },
    {
     "data": {
      "text/html": [
       "<div>\n",
       "<style scoped>\n",
       "    .dataframe tbody tr th:only-of-type {\n",
       "        vertical-align: middle;\n",
       "    }\n",
       "\n",
       "    .dataframe tbody tr th {\n",
       "        vertical-align: top;\n",
       "    }\n",
       "\n",
       "    .dataframe thead th {\n",
       "        text-align: right;\n",
       "    }\n",
       "</style>\n",
       "<table border=\"1\" class=\"dataframe\">\n",
       "  <thead>\n",
       "    <tr style=\"text-align: right;\">\n",
       "      <th></th>\n",
       "      <th>count</th>\n",
       "      <th>mean</th>\n",
       "      <th>std</th>\n",
       "      <th>min</th>\n",
       "      <th>25%</th>\n",
       "      <th>50%</th>\n",
       "      <th>75%</th>\n",
       "      <th>max</th>\n",
       "    </tr>\n",
       "  </thead>\n",
       "  <tbody>\n",
       "    <tr>\n",
       "      <th>ALTERSKATEGORIE_GROB</th>\n",
       "      <td>221467.0</td>\n",
       "      <td>2.626802</td>\n",
       "      <td>0.923515</td>\n",
       "      <td>1.0</td>\n",
       "      <td>2.0</td>\n",
       "      <td>3.0</td>\n",
       "      <td>3.0</td>\n",
       "      <td>4.0</td>\n",
       "    </tr>\n",
       "    <tr>\n",
       "      <th>ANREDE_KZ</th>\n",
       "      <td>224348.0</td>\n",
       "      <td>1.549544</td>\n",
       "      <td>0.497540</td>\n",
       "      <td>1.0</td>\n",
       "      <td>1.0</td>\n",
       "      <td>2.0</td>\n",
       "      <td>2.0</td>\n",
       "      <td>2.0</td>\n",
       "    </tr>\n",
       "    <tr>\n",
       "      <th>CJT_GESAMTTYP</th>\n",
       "      <td>219494.0</td>\n",
       "      <td>4.154792</td>\n",
       "      <td>1.682154</td>\n",
       "      <td>1.0</td>\n",
       "      <td>3.0</td>\n",
       "      <td>4.0</td>\n",
       "      <td>6.0</td>\n",
       "      <td>6.0</td>\n",
       "    </tr>\n",
       "    <tr>\n",
       "      <th>FINANZ_MINIMALIST</th>\n",
       "      <td>224348.0</td>\n",
       "      <td>3.085795</td>\n",
       "      <td>1.184776</td>\n",
       "      <td>1.0</td>\n",
       "      <td>3.0</td>\n",
       "      <td>3.0</td>\n",
       "      <td>4.0</td>\n",
       "      <td>5.0</td>\n",
       "    </tr>\n",
       "    <tr>\n",
       "      <th>FINANZ_SPARER</th>\n",
       "      <td>224348.0</td>\n",
       "      <td>3.286029</td>\n",
       "      <td>1.332552</td>\n",
       "      <td>1.0</td>\n",
       "      <td>2.0</td>\n",
       "      <td>4.0</td>\n",
       "      <td>4.0</td>\n",
       "      <td>5.0</td>\n",
       "    </tr>\n",
       "    <tr>\n",
       "      <th>...</th>\n",
       "      <td>...</td>\n",
       "      <td>...</td>\n",
       "      <td>...</td>\n",
       "      <td>...</td>\n",
       "      <td>...</td>\n",
       "      <td>...</td>\n",
       "      <td>...</td>\n",
       "      <td>...</td>\n",
       "    </tr>\n",
       "    <tr>\n",
       "      <th>PLZ8_HHZ</th>\n",
       "      <td>107833.0</td>\n",
       "      <td>3.620571</td>\n",
       "      <td>1.009813</td>\n",
       "      <td>1.0</td>\n",
       "      <td>3.0</td>\n",
       "      <td>4.0</td>\n",
       "      <td>4.0</td>\n",
       "      <td>5.0</td>\n",
       "    </tr>\n",
       "    <tr>\n",
       "      <th>PLZ8_GBZ</th>\n",
       "      <td>107833.0</td>\n",
       "      <td>3.474243</td>\n",
       "      <td>1.099216</td>\n",
       "      <td>1.0</td>\n",
       "      <td>3.0</td>\n",
       "      <td>3.0</td>\n",
       "      <td>4.0</td>\n",
       "      <td>5.0</td>\n",
       "    </tr>\n",
       "    <tr>\n",
       "      <th>ARBEIT</th>\n",
       "      <td>127041.0</td>\n",
       "      <td>3.059863</td>\n",
       "      <td>1.017857</td>\n",
       "      <td>1.0</td>\n",
       "      <td>2.0</td>\n",
       "      <td>3.0</td>\n",
       "      <td>4.0</td>\n",
       "      <td>5.0</td>\n",
       "    </tr>\n",
       "    <tr>\n",
       "      <th>ORTSGR_KLS9</th>\n",
       "      <td>127074.0</td>\n",
       "      <td>5.079780</td>\n",
       "      <td>2.307732</td>\n",
       "      <td>1.0</td>\n",
       "      <td>3.0</td>\n",
       "      <td>5.0</td>\n",
       "      <td>7.0</td>\n",
       "      <td>9.0</td>\n",
       "    </tr>\n",
       "    <tr>\n",
       "      <th>RELAT_AB</th>\n",
       "      <td>127041.0</td>\n",
       "      <td>2.967200</td>\n",
       "      <td>1.384235</td>\n",
       "      <td>1.0</td>\n",
       "      <td>2.0</td>\n",
       "      <td>3.0</td>\n",
       "      <td>4.0</td>\n",
       "      <td>5.0</td>\n",
       "    </tr>\n",
       "  </tbody>\n",
       "</table>\n",
       "<p>75 rows × 8 columns</p>\n",
       "</div>"
      ],
      "text/plain": [
       "                         count      mean       std  min  25%  50%  75%  max\n",
       "ALTERSKATEGORIE_GROB  221467.0  2.626802  0.923515  1.0  2.0  3.0  3.0  4.0\n",
       "ANREDE_KZ             224348.0  1.549544  0.497540  1.0  1.0  2.0  2.0  2.0\n",
       "CJT_GESAMTTYP         219494.0  4.154792  1.682154  1.0  3.0  4.0  6.0  6.0\n",
       "FINANZ_MINIMALIST     224348.0  3.085795  1.184776  1.0  3.0  3.0  4.0  5.0\n",
       "FINANZ_SPARER         224348.0  3.286029  1.332552  1.0  2.0  4.0  4.0  5.0\n",
       "...                        ...       ...       ...  ...  ...  ...  ...  ...\n",
       "PLZ8_HHZ              107833.0  3.620571  1.009813  1.0  3.0  4.0  4.0  5.0\n",
       "PLZ8_GBZ              107833.0  3.474243  1.099216  1.0  3.0  3.0  4.0  5.0\n",
       "ARBEIT                127041.0  3.059863  1.017857  1.0  2.0  3.0  4.0  5.0\n",
       "ORTSGR_KLS9           127074.0  5.079780  2.307732  1.0  3.0  5.0  7.0  9.0\n",
       "RELAT_AB              127041.0  2.967200  1.384235  1.0  2.0  3.0  4.0  5.0\n",
       "\n",
       "[75 rows x 8 columns]"
      ]
     },
     "metadata": {},
     "output_type": "display_data"
    }
   ],
   "source": [
    "print(f'number of discarded rows: {len(df2)}')\n",
    "print(f'number of kept rows: {len(filtered_azdias)}')\n",
    "print('Statistics of cleaned dataset: ')\n",
    "display(filtered_azdias.describe().T)\n",
    "\n",
    "print('Statistics of discarded dataset: ')\n",
    "display(df2.describe().T)"
   ]
  },
  {
   "cell_type": "code",
   "execution_count": 26,
   "metadata": {},
   "outputs": [
    {
     "name": "stdout",
     "output_type": "stream",
     "text": [
      "Differnces by Mean:\n"
     ]
    },
    {
     "data": {
      "text/html": [
       "<div>\n",
       "<style scoped>\n",
       "    .dataframe tbody tr th:only-of-type {\n",
       "        vertical-align: middle;\n",
       "    }\n",
       "\n",
       "    .dataframe tbody tr th {\n",
       "        vertical-align: top;\n",
       "    }\n",
       "\n",
       "    .dataframe thead th {\n",
       "        text-align: right;\n",
       "    }\n",
       "</style>\n",
       "<table border=\"1\" class=\"dataframe\">\n",
       "  <thead>\n",
       "    <tr style=\"text-align: right;\">\n",
       "      <th></th>\n",
       "      <th>KBA13_ANZAHL_PKW</th>\n",
       "      <th>MIN_GEBAEUDEJAHR</th>\n",
       "      <th>SEMIO_REL</th>\n",
       "      <th>FINANZ_UNAUFFAELLIGER</th>\n",
       "      <th>HH_EINKOMMEN_SCORE</th>\n",
       "      <th>SEMIO_SOZ</th>\n",
       "      <th>SEMIO_VERT</th>\n",
       "      <th>SEMIO_KRIT</th>\n",
       "      <th>FINANZ_ANLEGER</th>\n",
       "      <th>SEMIO_FAM</th>\n",
       "      <th>...</th>\n",
       "      <th>KBA05_ANTG3</th>\n",
       "      <th>GEBAEUDETYP_RASTER</th>\n",
       "      <th>REGIOTYP</th>\n",
       "      <th>FINANZ_MINIMALIST</th>\n",
       "      <th>RETOURTYP_BK_S</th>\n",
       "      <th>PLZ8_HHZ</th>\n",
       "      <th>NATIONALITAET_KZ</th>\n",
       "      <th>ANZ_HH_TITEL</th>\n",
       "      <th>SOHO_KZ</th>\n",
       "      <th>ANZ_TITEL</th>\n",
       "    </tr>\n",
       "  </thead>\n",
       "  <tbody>\n",
       "    <tr>\n",
       "      <th>count</th>\n",
       "      <td>547269.000000</td>\n",
       "      <td>535673.000000</td>\n",
       "      <td>442525.000000</td>\n",
       "      <td>442525.000000</td>\n",
       "      <td>460873.000000</td>\n",
       "      <td>442525.000000</td>\n",
       "      <td>442525.000000</td>\n",
       "      <td>442525.000000</td>\n",
       "      <td>442525.000000</td>\n",
       "      <td>442525.000000</td>\n",
       "      <td>...</td>\n",
       "      <td>575849.000000</td>\n",
       "      <td>535676.000000</td>\n",
       "      <td>545277.000000</td>\n",
       "      <td>442525.000000</td>\n",
       "      <td>447379.000000</td>\n",
       "      <td>559040.000000</td>\n",
       "      <td>550840.000000</td>\n",
       "      <td>539533.000000</td>\n",
       "      <td>516024.000000</td>\n",
       "      <td>516024.000000</td>\n",
       "    </tr>\n",
       "    <tr>\n",
       "      <th>mean</th>\n",
       "      <td>-27.992293</td>\n",
       "      <td>-3.621022</td>\n",
       "      <td>-1.412975</td>\n",
       "      <td>-1.249271</td>\n",
       "      <td>1.120353</td>\n",
       "      <td>1.113825</td>\n",
       "      <td>1.083363</td>\n",
       "      <td>-1.058591</td>\n",
       "      <td>-0.987623</td>\n",
       "      <td>-0.761612</td>\n",
       "      <td>...</td>\n",
       "      <td>-0.027658</td>\n",
       "      <td>-0.026708</td>\n",
       "      <td>0.025307</td>\n",
       "      <td>-0.015058</td>\n",
       "      <td>-0.013817</td>\n",
       "      <td>-0.009003</td>\n",
       "      <td>-0.005052</td>\n",
       "      <td>-0.004434</td>\n",
       "      <td>0.000087</td>\n",
       "      <td>-0.000026</td>\n",
       "    </tr>\n",
       "    <tr>\n",
       "      <th>std</th>\n",
       "      <td>-23.927226</td>\n",
       "      <td>-4.552254</td>\n",
       "      <td>-0.170701</td>\n",
       "      <td>-0.033965</td>\n",
       "      <td>-0.059536</td>\n",
       "      <td>0.292325</td>\n",
       "      <td>-0.428531</td>\n",
       "      <td>-0.078181</td>\n",
       "      <td>-0.047358</td>\n",
       "      <td>0.135602</td>\n",
       "      <td>...</td>\n",
       "      <td>0.006636</td>\n",
       "      <td>-0.039609</td>\n",
       "      <td>-0.035991</td>\n",
       "      <td>0.179048</td>\n",
       "      <td>0.157937</td>\n",
       "      <td>-0.041772</td>\n",
       "      <td>-0.017327</td>\n",
       "      <td>-0.087852</td>\n",
       "      <td>0.000467</td>\n",
       "      <td>-0.002636</td>\n",
       "    </tr>\n",
       "    <tr>\n",
       "      <th>min</th>\n",
       "      <td>1.000000</td>\n",
       "      <td>0.000000</td>\n",
       "      <td>0.000000</td>\n",
       "      <td>0.000000</td>\n",
       "      <td>0.000000</td>\n",
       "      <td>0.000000</td>\n",
       "      <td>0.000000</td>\n",
       "      <td>0.000000</td>\n",
       "      <td>0.000000</td>\n",
       "      <td>0.000000</td>\n",
       "      <td>...</td>\n",
       "      <td>0.000000</td>\n",
       "      <td>0.000000</td>\n",
       "      <td>0.000000</td>\n",
       "      <td>0.000000</td>\n",
       "      <td>0.000000</td>\n",
       "      <td>0.000000</td>\n",
       "      <td>0.000000</td>\n",
       "      <td>0.000000</td>\n",
       "      <td>0.000000</td>\n",
       "      <td>0.000000</td>\n",
       "    </tr>\n",
       "    <tr>\n",
       "      <th>25%</th>\n",
       "      <td>-8.000000</td>\n",
       "      <td>0.000000</td>\n",
       "      <td>-1.000000</td>\n",
       "      <td>-2.000000</td>\n",
       "      <td>2.000000</td>\n",
       "      <td>0.000000</td>\n",
       "      <td>1.000000</td>\n",
       "      <td>-1.000000</td>\n",
       "      <td>-1.000000</td>\n",
       "      <td>-2.000000</td>\n",
       "      <td>...</td>\n",
       "      <td>0.000000</td>\n",
       "      <td>0.000000</td>\n",
       "      <td>0.000000</td>\n",
       "      <td>-1.000000</td>\n",
       "      <td>-1.000000</td>\n",
       "      <td>0.000000</td>\n",
       "      <td>0.000000</td>\n",
       "      <td>0.000000</td>\n",
       "      <td>0.000000</td>\n",
       "      <td>0.000000</td>\n",
       "    </tr>\n",
       "    <tr>\n",
       "      <th>50%</th>\n",
       "      <td>-24.000000</td>\n",
       "      <td>0.000000</td>\n",
       "      <td>-3.000000</td>\n",
       "      <td>-3.000000</td>\n",
       "      <td>2.000000</td>\n",
       "      <td>2.000000</td>\n",
       "      <td>3.000000</td>\n",
       "      <td>-2.000000</td>\n",
       "      <td>-2.000000</td>\n",
       "      <td>-2.000000</td>\n",
       "      <td>...</td>\n",
       "      <td>0.000000</td>\n",
       "      <td>0.000000</td>\n",
       "      <td>0.000000</td>\n",
       "      <td>0.000000</td>\n",
       "      <td>1.000000</td>\n",
       "      <td>-1.000000</td>\n",
       "      <td>0.000000</td>\n",
       "      <td>0.000000</td>\n",
       "      <td>0.000000</td>\n",
       "      <td>0.000000</td>\n",
       "    </tr>\n",
       "    <tr>\n",
       "      <th>75%</th>\n",
       "      <td>-44.000000</td>\n",
       "      <td>-7.000000</td>\n",
       "      <td>-2.000000</td>\n",
       "      <td>-1.000000</td>\n",
       "      <td>1.000000</td>\n",
       "      <td>2.000000</td>\n",
       "      <td>1.000000</td>\n",
       "      <td>-1.000000</td>\n",
       "      <td>-1.000000</td>\n",
       "      <td>0.000000</td>\n",
       "      <td>...</td>\n",
       "      <td>0.000000</td>\n",
       "      <td>0.000000</td>\n",
       "      <td>0.000000</td>\n",
       "      <td>0.000000</td>\n",
       "      <td>0.000000</td>\n",
       "      <td>0.000000</td>\n",
       "      <td>0.000000</td>\n",
       "      <td>0.000000</td>\n",
       "      <td>0.000000</td>\n",
       "      <td>0.000000</td>\n",
       "    </tr>\n",
       "    <tr>\n",
       "      <th>max</th>\n",
       "      <td>0.000000</td>\n",
       "      <td>-11.000000</td>\n",
       "      <td>0.000000</td>\n",
       "      <td>0.000000</td>\n",
       "      <td>0.000000</td>\n",
       "      <td>0.000000</td>\n",
       "      <td>0.000000</td>\n",
       "      <td>0.000000</td>\n",
       "      <td>0.000000</td>\n",
       "      <td>0.000000</td>\n",
       "      <td>...</td>\n",
       "      <td>0.000000</td>\n",
       "      <td>0.000000</td>\n",
       "      <td>0.000000</td>\n",
       "      <td>0.000000</td>\n",
       "      <td>0.000000</td>\n",
       "      <td>0.000000</td>\n",
       "      <td>0.000000</td>\n",
       "      <td>-3.000000</td>\n",
       "      <td>0.000000</td>\n",
       "      <td>-2.000000</td>\n",
       "    </tr>\n",
       "    <tr>\n",
       "      <th>abs_error</th>\n",
       "      <td>27.992293</td>\n",
       "      <td>3.621022</td>\n",
       "      <td>1.412975</td>\n",
       "      <td>1.249271</td>\n",
       "      <td>1.120353</td>\n",
       "      <td>1.113825</td>\n",
       "      <td>1.083363</td>\n",
       "      <td>1.058591</td>\n",
       "      <td>0.987623</td>\n",
       "      <td>0.761612</td>\n",
       "      <td>...</td>\n",
       "      <td>0.027658</td>\n",
       "      <td>0.026708</td>\n",
       "      <td>0.025307</td>\n",
       "      <td>0.015058</td>\n",
       "      <td>0.013817</td>\n",
       "      <td>0.009003</td>\n",
       "      <td>0.005052</td>\n",
       "      <td>0.004434</td>\n",
       "      <td>0.000087</td>\n",
       "      <td>0.000026</td>\n",
       "    </tr>\n",
       "    <tr>\n",
       "      <th>abs_var</th>\n",
       "      <td>23.927226</td>\n",
       "      <td>4.552254</td>\n",
       "      <td>0.170701</td>\n",
       "      <td>0.033965</td>\n",
       "      <td>0.059536</td>\n",
       "      <td>0.292325</td>\n",
       "      <td>0.428531</td>\n",
       "      <td>0.078181</td>\n",
       "      <td>0.047358</td>\n",
       "      <td>0.135602</td>\n",
       "      <td>...</td>\n",
       "      <td>0.006636</td>\n",
       "      <td>0.039609</td>\n",
       "      <td>0.035991</td>\n",
       "      <td>0.179048</td>\n",
       "      <td>0.157937</td>\n",
       "      <td>0.041772</td>\n",
       "      <td>0.017327</td>\n",
       "      <td>0.087852</td>\n",
       "      <td>0.000467</td>\n",
       "      <td>0.002636</td>\n",
       "    </tr>\n",
       "  </tbody>\n",
       "</table>\n",
       "<p>10 rows × 75 columns</p>\n",
       "</div>"
      ],
      "text/plain": [
       "           KBA13_ANZAHL_PKW  MIN_GEBAEUDEJAHR      SEMIO_REL  \\\n",
       "count         547269.000000     535673.000000  442525.000000   \n",
       "mean             -27.992293         -3.621022      -1.412975   \n",
       "std              -23.927226         -4.552254      -0.170701   \n",
       "min                1.000000          0.000000       0.000000   \n",
       "25%               -8.000000          0.000000      -1.000000   \n",
       "50%              -24.000000          0.000000      -3.000000   \n",
       "75%              -44.000000         -7.000000      -2.000000   \n",
       "max                0.000000        -11.000000       0.000000   \n",
       "abs_error         27.992293          3.621022       1.412975   \n",
       "abs_var           23.927226          4.552254       0.170701   \n",
       "\n",
       "           FINANZ_UNAUFFAELLIGER  HH_EINKOMMEN_SCORE      SEMIO_SOZ  \\\n",
       "count              442525.000000       460873.000000  442525.000000   \n",
       "mean                   -1.249271            1.120353       1.113825   \n",
       "std                    -0.033965           -0.059536       0.292325   \n",
       "min                     0.000000            0.000000       0.000000   \n",
       "25%                    -2.000000            2.000000       0.000000   \n",
       "50%                    -3.000000            2.000000       2.000000   \n",
       "75%                    -1.000000            1.000000       2.000000   \n",
       "max                     0.000000            0.000000       0.000000   \n",
       "abs_error               1.249271            1.120353       1.113825   \n",
       "abs_var                 0.033965            0.059536       0.292325   \n",
       "\n",
       "              SEMIO_VERT     SEMIO_KRIT  FINANZ_ANLEGER      SEMIO_FAM  ...  \\\n",
       "count      442525.000000  442525.000000   442525.000000  442525.000000  ...   \n",
       "mean            1.083363      -1.058591       -0.987623      -0.761612  ...   \n",
       "std            -0.428531      -0.078181       -0.047358       0.135602  ...   \n",
       "min             0.000000       0.000000        0.000000       0.000000  ...   \n",
       "25%             1.000000      -1.000000       -1.000000      -2.000000  ...   \n",
       "50%             3.000000      -2.000000       -2.000000      -2.000000  ...   \n",
       "75%             1.000000      -1.000000       -1.000000       0.000000  ...   \n",
       "max             0.000000       0.000000        0.000000       0.000000  ...   \n",
       "abs_error       1.083363       1.058591        0.987623       0.761612  ...   \n",
       "abs_var         0.428531       0.078181        0.047358       0.135602  ...   \n",
       "\n",
       "             KBA05_ANTG3  GEBAEUDETYP_RASTER       REGIOTYP  \\\n",
       "count      575849.000000       535676.000000  545277.000000   \n",
       "mean           -0.027658           -0.026708       0.025307   \n",
       "std             0.006636           -0.039609      -0.035991   \n",
       "min             0.000000            0.000000       0.000000   \n",
       "25%             0.000000            0.000000       0.000000   \n",
       "50%             0.000000            0.000000       0.000000   \n",
       "75%             0.000000            0.000000       0.000000   \n",
       "max             0.000000            0.000000       0.000000   \n",
       "abs_error       0.027658            0.026708       0.025307   \n",
       "abs_var         0.006636            0.039609       0.035991   \n",
       "\n",
       "           FINANZ_MINIMALIST  RETOURTYP_BK_S       PLZ8_HHZ  NATIONALITAET_KZ  \\\n",
       "count          442525.000000   447379.000000  559040.000000     550840.000000   \n",
       "mean               -0.015058       -0.013817      -0.009003         -0.005052   \n",
       "std                 0.179048        0.157937      -0.041772         -0.017327   \n",
       "min                 0.000000        0.000000       0.000000          0.000000   \n",
       "25%                -1.000000       -1.000000       0.000000          0.000000   \n",
       "50%                 0.000000        1.000000      -1.000000          0.000000   \n",
       "75%                 0.000000        0.000000       0.000000          0.000000   \n",
       "max                 0.000000        0.000000       0.000000          0.000000   \n",
       "abs_error           0.015058        0.013817       0.009003          0.005052   \n",
       "abs_var             0.179048        0.157937       0.041772          0.017327   \n",
       "\n",
       "            ANZ_HH_TITEL        SOHO_KZ      ANZ_TITEL  \n",
       "count      539533.000000  516024.000000  516024.000000  \n",
       "mean           -0.004434       0.000087      -0.000026  \n",
       "std            -0.087852       0.000467      -0.002636  \n",
       "min             0.000000       0.000000       0.000000  \n",
       "25%             0.000000       0.000000       0.000000  \n",
       "50%             0.000000       0.000000       0.000000  \n",
       "75%             0.000000       0.000000       0.000000  \n",
       "max            -3.000000       0.000000      -2.000000  \n",
       "abs_error       0.004434       0.000087       0.000026  \n",
       "abs_var         0.087852       0.000467       0.002636  \n",
       "\n",
       "[10 rows x 75 columns]"
      ]
     },
     "metadata": {},
     "output_type": "display_data"
    },
    {
     "name": "stdout",
     "output_type": "stream",
     "text": [
      "Differences by STD:\n"
     ]
    },
    {
     "data": {
      "text/html": [
       "<div>\n",
       "<style scoped>\n",
       "    .dataframe tbody tr th:only-of-type {\n",
       "        vertical-align: middle;\n",
       "    }\n",
       "\n",
       "    .dataframe tbody tr th {\n",
       "        vertical-align: top;\n",
       "    }\n",
       "\n",
       "    .dataframe thead th {\n",
       "        text-align: right;\n",
       "    }\n",
       "</style>\n",
       "<table border=\"1\" class=\"dataframe\">\n",
       "  <thead>\n",
       "    <tr style=\"text-align: right;\">\n",
       "      <th></th>\n",
       "      <th>KBA13_ANZAHL_PKW</th>\n",
       "      <th>MIN_GEBAEUDEJAHR</th>\n",
       "      <th>ANZ_HAUSHALTE_AKTIV</th>\n",
       "      <th>LP_LEBENSPHASE_FEIN</th>\n",
       "      <th>SEMIO_PFLICHT</th>\n",
       "      <th>SEMIO_MAT</th>\n",
       "      <th>LP_STATUS_FEIN</th>\n",
       "      <th>FINANZTYP</th>\n",
       "      <th>SEMIO_VERT</th>\n",
       "      <th>SEMIO_RAT</th>\n",
       "      <th>...</th>\n",
       "      <th>SHOPPER_TYP</th>\n",
       "      <th>KKK</th>\n",
       "      <th>VERS_TYP</th>\n",
       "      <th>ORTSGR_KLS9</th>\n",
       "      <th>KBA05_ANTG3</th>\n",
       "      <th>PLZ8_ANTG3</th>\n",
       "      <th>ANZ_TITEL</th>\n",
       "      <th>ANREDE_KZ</th>\n",
       "      <th>PLZ8_ANTG2</th>\n",
       "      <th>SOHO_KZ</th>\n",
       "    </tr>\n",
       "  </thead>\n",
       "  <tbody>\n",
       "    <tr>\n",
       "      <th>count</th>\n",
       "      <td>547269.000000</td>\n",
       "      <td>535673.000000</td>\n",
       "      <td>538512.000000</td>\n",
       "      <td>540153.000000</td>\n",
       "      <td>442525.000000</td>\n",
       "      <td>442525.000000</td>\n",
       "      <td>447379.000000</td>\n",
       "      <td>442525.000000</td>\n",
       "      <td>442525.000000</td>\n",
       "      <td>442525.000000</td>\n",
       "      <td>...</td>\n",
       "      <td>553721.000000</td>\n",
       "      <td>545277.000000</td>\n",
       "      <td>553721.000000</td>\n",
       "      <td>539799.000000</td>\n",
       "      <td>575849.000000</td>\n",
       "      <td>559040.000000</td>\n",
       "      <td>516024.000000</td>\n",
       "      <td>442525.000000</td>\n",
       "      <td>559040.000000</td>\n",
       "      <td>516024.000000</td>\n",
       "    </tr>\n",
       "    <tr>\n",
       "      <th>mean</th>\n",
       "      <td>-27.992293</td>\n",
       "      <td>-3.621022</td>\n",
       "      <td>0.340074</td>\n",
       "      <td>-0.052198</td>\n",
       "      <td>-0.549392</td>\n",
       "      <td>-0.685989</td>\n",
       "      <td>-0.228873</td>\n",
       "      <td>0.463229</td>\n",
       "      <td>1.083363</td>\n",
       "      <td>-0.271790</td>\n",
       "      <td>...</td>\n",
       "      <td>-0.225519</td>\n",
       "      <td>0.045367</td>\n",
       "      <td>0.128227</td>\n",
       "      <td>0.254312</td>\n",
       "      <td>-0.027658</td>\n",
       "      <td>0.108039</td>\n",
       "      <td>-0.000026</td>\n",
       "      <td>-0.036678</td>\n",
       "      <td>0.073491</td>\n",
       "      <td>0.000087</td>\n",
       "    </tr>\n",
       "    <tr>\n",
       "      <th>std</th>\n",
       "      <td>-23.927226</td>\n",
       "      <td>-4.552254</td>\n",
       "      <td>-1.739467</td>\n",
       "      <td>0.682537</td>\n",
       "      <td>0.623467</td>\n",
       "      <td>0.509234</td>\n",
       "      <td>0.477884</td>\n",
       "      <td>0.452756</td>\n",
       "      <td>-0.428531</td>\n",
       "      <td>0.409648</td>\n",
       "      <td>...</td>\n",
       "      <td>0.011414</td>\n",
       "      <td>-0.011177</td>\n",
       "      <td>0.008902</td>\n",
       "      <td>-0.007431</td>\n",
       "      <td>0.006636</td>\n",
       "      <td>0.004389</td>\n",
       "      <td>-0.002636</td>\n",
       "      <td>0.002294</td>\n",
       "      <td>0.001026</td>\n",
       "      <td>0.000467</td>\n",
       "    </tr>\n",
       "    <tr>\n",
       "      <th>min</th>\n",
       "      <td>1.000000</td>\n",
       "      <td>0.000000</td>\n",
       "      <td>0.000000</td>\n",
       "      <td>0.000000</td>\n",
       "      <td>0.000000</td>\n",
       "      <td>0.000000</td>\n",
       "      <td>0.000000</td>\n",
       "      <td>0.000000</td>\n",
       "      <td>0.000000</td>\n",
       "      <td>0.000000</td>\n",
       "      <td>...</td>\n",
       "      <td>0.000000</td>\n",
       "      <td>0.000000</td>\n",
       "      <td>0.000000</td>\n",
       "      <td>0.000000</td>\n",
       "      <td>0.000000</td>\n",
       "      <td>0.000000</td>\n",
       "      <td>0.000000</td>\n",
       "      <td>0.000000</td>\n",
       "      <td>0.000000</td>\n",
       "      <td>0.000000</td>\n",
       "    </tr>\n",
       "    <tr>\n",
       "      <th>25%</th>\n",
       "      <td>-8.000000</td>\n",
       "      <td>0.000000</td>\n",
       "      <td>1.000000</td>\n",
       "      <td>-1.000000</td>\n",
       "      <td>-1.000000</td>\n",
       "      <td>-2.000000</td>\n",
       "      <td>-1.000000</td>\n",
       "      <td>0.000000</td>\n",
       "      <td>1.000000</td>\n",
       "      <td>-1.000000</td>\n",
       "      <td>...</td>\n",
       "      <td>0.000000</td>\n",
       "      <td>0.000000</td>\n",
       "      <td>0.000000</td>\n",
       "      <td>1.000000</td>\n",
       "      <td>0.000000</td>\n",
       "      <td>0.000000</td>\n",
       "      <td>0.000000</td>\n",
       "      <td>0.000000</td>\n",
       "      <td>0.000000</td>\n",
       "      <td>0.000000</td>\n",
       "    </tr>\n",
       "    <tr>\n",
       "      <th>50%</th>\n",
       "      <td>-24.000000</td>\n",
       "      <td>0.000000</td>\n",
       "      <td>1.000000</td>\n",
       "      <td>0.000000</td>\n",
       "      <td>-1.000000</td>\n",
       "      <td>-1.000000</td>\n",
       "      <td>-1.000000</td>\n",
       "      <td>1.000000</td>\n",
       "      <td>3.000000</td>\n",
       "      <td>0.000000</td>\n",
       "      <td>...</td>\n",
       "      <td>0.000000</td>\n",
       "      <td>0.000000</td>\n",
       "      <td>1.000000</td>\n",
       "      <td>0.000000</td>\n",
       "      <td>0.000000</td>\n",
       "      <td>1.000000</td>\n",
       "      <td>0.000000</td>\n",
       "      <td>0.000000</td>\n",
       "      <td>0.000000</td>\n",
       "      <td>0.000000</td>\n",
       "    </tr>\n",
       "    <tr>\n",
       "      <th>75%</th>\n",
       "      <td>-44.000000</td>\n",
       "      <td>-7.000000</td>\n",
       "      <td>1.000000</td>\n",
       "      <td>2.000000</td>\n",
       "      <td>1.000000</td>\n",
       "      <td>0.000000</td>\n",
       "      <td>1.000000</td>\n",
       "      <td>2.000000</td>\n",
       "      <td>1.000000</td>\n",
       "      <td>1.000000</td>\n",
       "      <td>...</td>\n",
       "      <td>-1.000000</td>\n",
       "      <td>0.000000</td>\n",
       "      <td>0.000000</td>\n",
       "      <td>0.000000</td>\n",
       "      <td>0.000000</td>\n",
       "      <td>0.000000</td>\n",
       "      <td>0.000000</td>\n",
       "      <td>0.000000</td>\n",
       "      <td>1.000000</td>\n",
       "      <td>0.000000</td>\n",
       "    </tr>\n",
       "    <tr>\n",
       "      <th>max</th>\n",
       "      <td>0.000000</td>\n",
       "      <td>-11.000000</td>\n",
       "      <td>-59.000000</td>\n",
       "      <td>0.000000</td>\n",
       "      <td>0.000000</td>\n",
       "      <td>0.000000</td>\n",
       "      <td>0.000000</td>\n",
       "      <td>0.000000</td>\n",
       "      <td>0.000000</td>\n",
       "      <td>0.000000</td>\n",
       "      <td>...</td>\n",
       "      <td>0.000000</td>\n",
       "      <td>0.000000</td>\n",
       "      <td>0.000000</td>\n",
       "      <td>0.000000</td>\n",
       "      <td>0.000000</td>\n",
       "      <td>0.000000</td>\n",
       "      <td>-2.000000</td>\n",
       "      <td>0.000000</td>\n",
       "      <td>0.000000</td>\n",
       "      <td>0.000000</td>\n",
       "    </tr>\n",
       "    <tr>\n",
       "      <th>abs_error</th>\n",
       "      <td>27.992293</td>\n",
       "      <td>3.621022</td>\n",
       "      <td>0.340074</td>\n",
       "      <td>0.052198</td>\n",
       "      <td>0.549392</td>\n",
       "      <td>0.685989</td>\n",
       "      <td>0.228873</td>\n",
       "      <td>0.463229</td>\n",
       "      <td>1.083363</td>\n",
       "      <td>0.271790</td>\n",
       "      <td>...</td>\n",
       "      <td>0.225519</td>\n",
       "      <td>0.045367</td>\n",
       "      <td>0.128227</td>\n",
       "      <td>0.254312</td>\n",
       "      <td>0.027658</td>\n",
       "      <td>0.108039</td>\n",
       "      <td>0.000026</td>\n",
       "      <td>0.036678</td>\n",
       "      <td>0.073491</td>\n",
       "      <td>0.000087</td>\n",
       "    </tr>\n",
       "    <tr>\n",
       "      <th>abs_var</th>\n",
       "      <td>23.927226</td>\n",
       "      <td>4.552254</td>\n",
       "      <td>1.739467</td>\n",
       "      <td>0.682537</td>\n",
       "      <td>0.623467</td>\n",
       "      <td>0.509234</td>\n",
       "      <td>0.477884</td>\n",
       "      <td>0.452756</td>\n",
       "      <td>0.428531</td>\n",
       "      <td>0.409648</td>\n",
       "      <td>...</td>\n",
       "      <td>0.011414</td>\n",
       "      <td>0.011177</td>\n",
       "      <td>0.008902</td>\n",
       "      <td>0.007431</td>\n",
       "      <td>0.006636</td>\n",
       "      <td>0.004389</td>\n",
       "      <td>0.002636</td>\n",
       "      <td>0.002294</td>\n",
       "      <td>0.001026</td>\n",
       "      <td>0.000467</td>\n",
       "    </tr>\n",
       "  </tbody>\n",
       "</table>\n",
       "<p>10 rows × 75 columns</p>\n",
       "</div>"
      ],
      "text/plain": [
       "           KBA13_ANZAHL_PKW  MIN_GEBAEUDEJAHR  ANZ_HAUSHALTE_AKTIV  \\\n",
       "count         547269.000000     535673.000000        538512.000000   \n",
       "mean             -27.992293         -3.621022             0.340074   \n",
       "std              -23.927226         -4.552254            -1.739467   \n",
       "min                1.000000          0.000000             0.000000   \n",
       "25%               -8.000000          0.000000             1.000000   \n",
       "50%              -24.000000          0.000000             1.000000   \n",
       "75%              -44.000000         -7.000000             1.000000   \n",
       "max                0.000000        -11.000000           -59.000000   \n",
       "abs_error         27.992293          3.621022             0.340074   \n",
       "abs_var           23.927226          4.552254             1.739467   \n",
       "\n",
       "           LP_LEBENSPHASE_FEIN  SEMIO_PFLICHT      SEMIO_MAT  LP_STATUS_FEIN  \\\n",
       "count            540153.000000  442525.000000  442525.000000   447379.000000   \n",
       "mean                 -0.052198      -0.549392      -0.685989       -0.228873   \n",
       "std                   0.682537       0.623467       0.509234        0.477884   \n",
       "min                   0.000000       0.000000       0.000000        0.000000   \n",
       "25%                  -1.000000      -1.000000      -2.000000       -1.000000   \n",
       "50%                   0.000000      -1.000000      -1.000000       -1.000000   \n",
       "75%                   2.000000       1.000000       0.000000        1.000000   \n",
       "max                   0.000000       0.000000       0.000000        0.000000   \n",
       "abs_error             0.052198       0.549392       0.685989        0.228873   \n",
       "abs_var               0.682537       0.623467       0.509234        0.477884   \n",
       "\n",
       "               FINANZTYP     SEMIO_VERT      SEMIO_RAT  ...    SHOPPER_TYP  \\\n",
       "count      442525.000000  442525.000000  442525.000000  ...  553721.000000   \n",
       "mean            0.463229       1.083363      -0.271790  ...      -0.225519   \n",
       "std             0.452756      -0.428531       0.409648  ...       0.011414   \n",
       "min             0.000000       0.000000       0.000000  ...       0.000000   \n",
       "25%             0.000000       1.000000      -1.000000  ...       0.000000   \n",
       "50%             1.000000       3.000000       0.000000  ...       0.000000   \n",
       "75%             2.000000       1.000000       1.000000  ...      -1.000000   \n",
       "max             0.000000       0.000000       0.000000  ...       0.000000   \n",
       "abs_error       0.463229       1.083363       0.271790  ...       0.225519   \n",
       "abs_var         0.452756       0.428531       0.409648  ...       0.011414   \n",
       "\n",
       "                     KKK       VERS_TYP    ORTSGR_KLS9    KBA05_ANTG3  \\\n",
       "count      545277.000000  553721.000000  539799.000000  575849.000000   \n",
       "mean            0.045367       0.128227       0.254312      -0.027658   \n",
       "std            -0.011177       0.008902      -0.007431       0.006636   \n",
       "min             0.000000       0.000000       0.000000       0.000000   \n",
       "25%             0.000000       0.000000       1.000000       0.000000   \n",
       "50%             0.000000       1.000000       0.000000       0.000000   \n",
       "75%             0.000000       0.000000       0.000000       0.000000   \n",
       "max             0.000000       0.000000       0.000000       0.000000   \n",
       "abs_error       0.045367       0.128227       0.254312       0.027658   \n",
       "abs_var         0.011177       0.008902       0.007431       0.006636   \n",
       "\n",
       "              PLZ8_ANTG3      ANZ_TITEL      ANREDE_KZ     PLZ8_ANTG2  \\\n",
       "count      559040.000000  516024.000000  442525.000000  559040.000000   \n",
       "mean            0.108039      -0.000026      -0.036678       0.073491   \n",
       "std             0.004389      -0.002636       0.002294       0.001026   \n",
       "min             0.000000       0.000000       0.000000       0.000000   \n",
       "25%             0.000000       0.000000       0.000000       0.000000   \n",
       "50%             1.000000       0.000000       0.000000       0.000000   \n",
       "75%             0.000000       0.000000       0.000000       1.000000   \n",
       "max             0.000000      -2.000000       0.000000       0.000000   \n",
       "abs_error       0.108039       0.000026       0.036678       0.073491   \n",
       "abs_var         0.004389       0.002636       0.002294       0.001026   \n",
       "\n",
       "                 SOHO_KZ  \n",
       "count      516024.000000  \n",
       "mean            0.000087  \n",
       "std             0.000467  \n",
       "min             0.000000  \n",
       "25%             0.000000  \n",
       "50%             0.000000  \n",
       "75%             0.000000  \n",
       "max             0.000000  \n",
       "abs_error       0.000087  \n",
       "abs_var         0.000467  \n",
       "\n",
       "[10 rows x 75 columns]"
      ]
     },
     "metadata": {},
     "output_type": "display_data"
    }
   ],
   "source": [
    "diff = filtered_azdias.describe() - df2.describe()\n",
    "\n",
    "diff.loc['abs_error'] = np.abs(diff.loc['mean'])\n",
    "diff.loc['abs_var'] = np.abs(diff.loc['std'])\n",
    "\n",
    "print('Differnces by Mean:')\n",
    "display(diff.sort_values('abs_error', axis=1, ascending=False))\n",
    "\n",
    "print('Differences by STD:')\n",
    "display(diff.sort_values('abs_var', axis=1, ascending=False))"
   ]
  },
  {
   "cell_type": "markdown",
   "metadata": {},
   "source": [
    "#### Discussion 1.1.3: Assess Missing Data in Each Row\n",
    "\n",
    "(Double-click this cell and replace this text with your own text, reporting your observations regarding missing data in rows. Are the data with lots of missing values are qualitatively different from data with few or no missing values?)"
   ]
  },
  {
   "cell_type": "markdown",
   "metadata": {},
   "source": [
    "*[ACM] Analyzing the data - there are a few outliers that contain a significant amount of missing data. Analysis of rows that contain 2 or greater empty fields were compared to the rest of the dataset and were separated as populations. Comparing 5 random fields, the distribution of each field were similar between populations. Further analysis compared the mean and standard distributions between the two populations showing that 2 fields, KBA13_ANZAHL_PKW and MIN_GEBAEUDEJAHR, contained mean differences greater than 1 unit. Further anlaysis may be required if these fields result in a strong weight to further analysis.*"
   ]
  },
  {
   "cell_type": "markdown",
   "metadata": {},
   "source": [
    "### Step 1.2: Select and Re-Encode Features\n",
    "\n",
    "Checking for missing data isn't the only way in which you can prepare a dataset for analysis. Since the unsupervised learning techniques to be used will only work on data that is encoded numerically, you need to make a few encoding changes or additional assumptions to be able to make progress. In addition, while almost all of the values in the dataset are encoded using numbers, not all of them represent numeric values. Check the third column of the feature summary (`feat_info`) for a summary of types of measurement.\n",
    "- For numeric and interval data, these features can be kept without changes.\n",
    "- Most of the variables in the dataset are ordinal in nature. While ordinal values may technically be non-linear in spacing, make the simplifying assumption that the ordinal variables can be treated as being interval in nature (that is, kept without any changes).\n",
    "- Special handling may be necessary for the remaining two variable types: categorical, and 'mixed'.\n",
    "\n",
    "In the first two parts of this sub-step, you will perform an investigation of the categorical and mixed-type features and make a decision on each of them, whether you will keep, drop, or re-encode each. Then, in the last part, you will create a new data frame with only the selected and engineered columns.\n",
    "\n",
    "Data wrangling is often the trickiest part of the data analysis process, and there's a lot of it to be done here. But stick with it: once you're done with this step, you'll be ready to get to the machine learning parts of the project!"
   ]
  },
  {
   "cell_type": "code",
   "execution_count": null,
   "metadata": {},
   "outputs": [],
   "source": [
    "# How many features are there of each data type?\n",
    "\n"
   ]
  },
  {
   "cell_type": "code",
   "execution_count": 27,
   "metadata": {},
   "outputs": [
    {
     "data": {
      "text/html": [
       "<div>\n",
       "<style scoped>\n",
       "    .dataframe tbody tr th:only-of-type {\n",
       "        vertical-align: middle;\n",
       "    }\n",
       "\n",
       "    .dataframe tbody tr th {\n",
       "        vertical-align: top;\n",
       "    }\n",
       "\n",
       "    .dataframe thead th {\n",
       "        text-align: right;\n",
       "    }\n",
       "</style>\n",
       "<table border=\"1\" class=\"dataframe\">\n",
       "  <thead>\n",
       "    <tr style=\"text-align: right;\">\n",
       "      <th></th>\n",
       "      <th>n_features</th>\n",
       "    </tr>\n",
       "    <tr>\n",
       "      <th>type</th>\n",
       "      <th></th>\n",
       "    </tr>\n",
       "  </thead>\n",
       "  <tbody>\n",
       "    <tr>\n",
       "      <th>categorical</th>\n",
       "      <td>21</td>\n",
       "    </tr>\n",
       "    <tr>\n",
       "      <th>interval</th>\n",
       "      <td>1</td>\n",
       "    </tr>\n",
       "    <tr>\n",
       "      <th>mixed</th>\n",
       "      <td>7</td>\n",
       "    </tr>\n",
       "    <tr>\n",
       "      <th>numeric</th>\n",
       "      <td>7</td>\n",
       "    </tr>\n",
       "    <tr>\n",
       "      <th>ordinal</th>\n",
       "      <td>49</td>\n",
       "    </tr>\n",
       "  </tbody>\n",
       "</table>\n",
       "</div>"
      ],
      "text/plain": [
       "             n_features\n",
       "type                   \n",
       "categorical          21\n",
       "interval              1\n",
       "mixed                 7\n",
       "numeric               7\n",
       "ordinal              49"
      ]
     },
     "metadata": {},
     "output_type": "display_data"
    }
   ],
   "source": [
    "n_feat_type = feat_info.groupby('type').count()['attribute']\n",
    "n_feat_type.name = 'n_features'\n",
    "display(n_feat_type.to_frame())"
   ]
  },
  {
   "cell_type": "markdown",
   "metadata": {},
   "source": [
    "#### Step 1.2.1: Re-Encode Categorical Features\n",
    "\n",
    "For categorical data, you would ordinarily need to encode the levels as dummy variables. Depending on the number of categories, perform one of the following:\n",
    "- For binary (two-level) categoricals that take numeric values, you can keep them without needing to do anything.\n",
    "- There is one binary variable that takes on non-numeric values. For this one, you need to re-encode the values as numbers or create a dummy variable.\n",
    "- For multi-level categoricals (three or more values), you can choose to encode the values using multiple dummy variables (e.g. via [OneHotEncoder](http://scikit-learn.org/stable/modules/generated/sklearn.preprocessing.OneHotEncoder.html)), or (to keep things straightforward) just drop them from the analysis. As always, document your choices in the Discussion section."
   ]
  },
  {
   "cell_type": "code",
   "execution_count": 28,
   "metadata": {},
   "outputs": [],
   "source": [
    "# Assess categorical variables: which are binary, which are multi-level, and\n",
    "# which one needs to be re-encoded?\n",
    "\n"
   ]
  },
  {
   "cell_type": "code",
   "execution_count": 29,
   "metadata": {},
   "outputs": [
    {
     "name": "stdout",
     "output_type": "stream",
     "text": [
      "Categorical Columns:\n",
      "['ANREDE_KZ', 'CJT_GESAMTTYP', 'FINANZTYP', 'GFK_URLAUBERTYP', 'GREEN_AVANTGARDE', 'LP_FAMILIE_FEIN', 'LP_FAMILIE_GROB', 'LP_STATUS_FEIN', 'LP_STATUS_GROB', 'NATIONALITAET_KZ', 'SHOPPER_TYP', 'SOHO_KZ', 'VERS_TYP', 'ZABEOTYP', 'GEBAEUDETYP', 'OST_WEST_KZ', 'CAMEO_DEUG_2015', 'CAMEO_DEU_2015']\n"
     ]
    }
   ],
   "source": [
    "cat_keys = get_categorical_cols(feat_info, azdias)\n",
    "print(f'Categorical Columns:\\n{cat_keys}')"
   ]
  },
  {
   "cell_type": "code",
   "execution_count": 30,
   "metadata": {},
   "outputs": [
    {
     "data": {
      "image/png": "[encoded data removed]",
      "text/plain": [
       "<Figure size 432x288 with 1 Axes>"
      ]
     },
     "metadata": {
      "needs_background": "light"
     },
     "output_type": "display_data"
    },
    {
     "name": "stdout",
     "output_type": "stream",
     "text": [
      "Binary Categories: ['ANREDE_KZ' 'GREEN_AVANTGARDE' 'SOHO_KZ' 'VERS_TYP' 'OST_WEST_KZ']\n"
     ]
    }
   ],
   "source": [
    "n_cats = get_num_categories(azdias, cat_keys)\n",
    "binary_cats, multi_cats, _ = split_categories(n_cats, cutoff2=np.inf)\n",
    "ax = n_cats.to_frame().plot(kind='barh')\n",
    "ax.set_xlabel('N Categories')\n",
    "ax.set_ylabel('Feature')\n",
    "ax.set_title('Number of Categories for Each Feature')\n",
    "plt.show()\n",
    "binary_cats = (n_cats[n_cats == 2]).index\n",
    "multi_cats = (n_cats[n_cats != 2]).index\n",
    "print(f'Binary Categories: {binary_cats.values}')"
   ]
  },
  {
   "cell_type": "code",
   "execution_count": 31,
   "metadata": {},
   "outputs": [],
   "source": [
    "# Re-encode categorical variable(s) to be kept in the analysis.\n",
    "\n"
   ]
  },
  {
   "cell_type": "code",
   "execution_count": 32,
   "metadata": {},
   "outputs": [
    {
     "data": {
      "image/png": "[encoded data removed]",
      "text/plain": [
       "<Figure size 432x288 with 1 Axes>"
      ]
     },
     "metadata": {
      "needs_background": "light"
     },
     "output_type": "display_data"
    }
   ],
   "source": [
    "ax = pd.DataFrame([(i, n_cats[n_cats<=i].sum()) for i in range(20)]).plot(x=0, kind='bar')\n",
    "ax.set_xlabel('N Category Cutoff')\n",
    "ax.set_ylabel('Number of Categories')\n",
    "ax.set_title('Category Explosion as function\\nof limiting max number of categories')\n",
    "\n",
    "plt.show()"
   ]
  },
  {
   "cell_type": "code",
   "execution_count": 33,
   "metadata": {},
   "outputs": [
    {
     "name": "stdout",
     "output_type": "stream",
     "text": [
      "Steady increase in features at 6 categories per feature.\n",
      "Propose limiting analysis to features with <= 6 categories\n"
     ]
    }
   ],
   "source": [
    "upper_cutoff = 6\n",
    "print(f'Steady increase in features at {upper_cutoff} categories per feature.')\n",
    "print(f'Propose limiting analysis to features with <= {upper_cutoff} categories')"
   ]
  },
  {
   "cell_type": "code",
   "execution_count": 34,
   "metadata": {},
   "outputs": [],
   "source": [
    "binary_cats, multi_cats, removed_cats = split_categories(n_cats, cutoff2=upper_cutoff)"
   ]
  },
  {
   "cell_type": "code",
   "execution_count": 35,
   "metadata": {},
   "outputs": [],
   "source": [
    "azdias = get_multi_dummies(azdias, binary_cats, multi_cats, drop_cats=removed_cats)"
   ]
  },
  {
   "cell_type": "code",
   "execution_count": null,
   "metadata": {},
   "outputs": [],
   "source": []
  },
  {
   "cell_type": "code",
   "execution_count": 36,
   "metadata": {},
   "outputs": [
    {
     "name": "stdout",
     "output_type": "stream",
     "text": [
      "Unique types of features in dataset:\n"
     ]
    },
    {
     "data": {
      "text/plain": [
       "array([dtype('float64'), dtype('O'), dtype('uint8')], dtype=object)"
      ]
     },
     "metadata": {},
     "output_type": "display_data"
    }
   ],
   "source": [
    "print('Unique types of features in dataset:')\n",
    "display(azdias.dtypes.unique())"
   ]
  },
  {
   "cell_type": "code",
   "execution_count": 37,
   "metadata": {},
   "outputs": [
    {
     "name": "stdout",
     "output_type": "stream",
     "text": [
      "Binary Columns:\n",
      "Index(['ANREDE_KZ', 'GREEN_AVANTGARDE', 'SOHO_KZ', 'VERS_TYP', 'OST_WEST_KZ'], dtype='object')\n",
      "--\n",
      "\n",
      "Categorical Columns Kept:\n",
      "Index(['CJT_GESAMTTYP', 'FINANZTYP', 'LP_FAMILIE_GROB', 'LP_STATUS_GROB',\n",
      "       'NATIONALITAET_KZ', 'SHOPPER_TYP', 'ZABEOTYP'],\n",
      "      dtype='object')\n",
      "--\n",
      "\n",
      "Omitted Categorical Columns:\n",
      "Index(['GFK_URLAUBERTYP', 'LP_FAMILIE_FEIN', 'LP_STATUS_FEIN', 'GEBAEUDETYP',\n",
      "       'CAMEO_DEUG_2015', 'CAMEO_DEU_2015'],\n",
      "      dtype='object')\n",
      "--\n",
      "\n"
     ]
    }
   ],
   "source": [
    "print(f'Binary Columns:\\n{binary_cats}\\n--\\n')\n",
    "print(f'Categorical Columns Kept:\\n{multi_cats}\\n--\\n')\n",
    "print(f'Omitted Categorical Columns:\\n{removed_cats}\\n--\\n')"
   ]
  },
  {
   "cell_type": "markdown",
   "metadata": {},
   "source": [
    "#### Discussion 1.2.1: Re-Encode Categorical Features\n",
    "\n",
    "(Double-click this cell and replace this text with your own text, reporting your findings and decisions regarding categorical features. Which ones did you keep, which did you drop, and what engineering steps did you perform?)"
   ]
  },
  {
   "cell_type": "markdown",
   "metadata": {},
   "source": [
    "*[ACM] I limited the number of categorical features to features with 6 or less features, primarily due to the drastic increase in\n",
    "features observed when encoding these catigorical features into one hot encoded features. Given the analysis, the binary features were One Hot Encoded where the first column was dropped to ensure [0,1] encoding and the categorical features with 6 or less features were one hot encoded. The categories that contained 7 or more features were dropped from the data set.*  \n",
    "\n",
    "---"
   ]
  },
  {
   "cell_type": "markdown",
   "metadata": {},
   "source": [
    "#### Step 1.2.2: Engineer Mixed-Type Features\n",
    "\n",
    "There are a handful of features that are marked as \"mixed\" in the feature summary that require special treatment in order to be included in the analysis. There are two in particular that deserve attention; the handling of the rest are up to your own choices:\n",
    "- \"PRAEGENDE_JUGENDJAHRE\" combines information on three dimensions: generation by decade, movement (mainstream vs. avantgarde), and nation (east vs. west). While there aren't enough levels to disentangle east from west, you should create two new variables to capture the other two dimensions: an interval-type variable for decade, and a binary variable for movement.\n",
    "- \"CAMEO_INTL_2015\" combines information on two axes: wealth and life stage. Break up the two-digit codes by their 'tens'-place and 'ones'-place digits into two new ordinal variables (which, for the purposes of this project, is equivalent to just treating them as their raw numeric values).\n",
    "- If you decide to keep or engineer new features around the other mixed-type features, make sure you note your steps in the Discussion section.\n",
    "\n",
    "Be sure to check `Data_Dictionary.md` for the details needed to finish these tasks."
   ]
  },
  {
   "cell_type": "code",
   "execution_count": 38,
   "metadata": {},
   "outputs": [],
   "source": [
    "# Investigate \"PRAEGENDE_JUGENDJAHRE\" and engineer two new variables.\n"
   ]
  },
  {
   "cell_type": "code",
   "execution_count": 39,
   "metadata": {},
   "outputs": [
    {
     "data": {
      "text/plain": [
       "['LP_LEBENSPHASE_FEIN',\n",
       " 'LP_LEBENSPHASE_GROB',\n",
       " 'PRAEGENDE_JUGENDJAHRE',\n",
       " 'WOHNLAGE',\n",
       " 'CAMEO_INTL_2015',\n",
       " 'PLZ8_BAUMAX']"
      ]
     },
     "metadata": {},
     "output_type": "display_data"
    },
    {
     "data": {
      "text/plain": [
       "['LP_LEBENSPHASE_FEIN', 'LP_LEBENSPHASE_GROB']"
      ]
     },
     "execution_count": 39,
     "metadata": {},
     "output_type": "execute_result"
    }
   ],
   "source": [
    "mixed_cols = get_categorical_cols(feat_info, azdias, cat_type='mixed')\n",
    "display(mixed_cols)\n",
    "keep_mixed = ['WOHNLAGE', 'PLZ8_BAUMAX'] \n",
    "drop_mixed = [col for col in mixed_cols if col not in \n",
    "              keep_mixed + ['PRAEGENDE_JUGENDJAHRE', 'CAMEO_INTL_2015']]\n",
    "drop_mixed"
   ]
  },
  {
   "cell_type": "code",
   "execution_count": 40,
   "metadata": {},
   "outputs": [],
   "source": [
    "azdias = process_jugnedjahre_unique(azdias)"
   ]
  },
  {
   "cell_type": "code",
   "execution_count": 41,
   "metadata": {},
   "outputs": [],
   "source": [
    "# Investigate \"CAMEO_INTL_2015\" and engineer two new variables.\n",
    "\n"
   ]
  },
  {
   "cell_type": "code",
   "execution_count": 42,
   "metadata": {},
   "outputs": [],
   "source": [
    "azdias = process_cameo_unique(azdias)\n",
    "azdias = (\n",
    "    azdias.pipe(process_wohnlage_unique)\n",
    "          .pipe(process_plz8_unique)\n",
    "          .drop(drop_mixed, axis=1)\n",
    ")"
   ]
  },
  {
   "cell_type": "markdown",
   "metadata": {},
   "source": [
    "#### Discussion 1.2.2: Engineer Mixed-Type Features\n",
    "\n",
    "(Double-click this cell and replace this text with your own text, reporting your findings and decisions regarding mixed-value features. Which ones did you keep, which did you drop, and what engineering steps did you perform?)"
   ]
  },
  {
   "cell_type": "markdown",
   "metadata": {},
   "source": [
    "*[ACM] The mixed type features, PRAEGENDE_JUGENDJAHRE and CAMEO_INTL_2015 were converted to single axis feature categories.\n",
    "LP_LEBENSPHASE_FEIN and LP_LEBENSPHASE_GROS were dropped due to the similarity to PRAEGENDE_JUGENDJAHRE. The mixed\n",
    "type feature, WOHNLAGE, was split into two features: WOHNLAGE_rural and WOHNLAGE_location_quality to capture the neighborhood\n",
    "quality and rural flag data captured within the feature. Finally, PLZ8_BAUMAX was split into two features: PLZ8_BAUMAX_business \n",
    "and  PLZ8_BAUMAX_housing_size, to capture if the location is within a business area and the housing size flag within the feature.*"
   ]
  },
  {
   "cell_type": "markdown",
   "metadata": {},
   "source": [
    "#### Step 1.2.3: Complete Feature Selection\n",
    "\n",
    "In order to finish this step up, you need to make sure that your data frame now only has the columns that you want to keep. To summarize, the dataframe should consist of the following:\n",
    "- All numeric, interval, and ordinal type columns from the original dataset.\n",
    "- Binary categorical features (all numerically-encoded).\n",
    "- Engineered features from other multi-level categorical features and mixed features.\n",
    "\n",
    "Make sure that for any new columns that you have engineered, that you've excluded the original columns from the final dataset. Otherwise, their values will interfere with the analysis later on the project. For example, you should not keep \"PRAEGENDE_JUGENDJAHRE\", since its values won't be useful for the algorithm: only the values derived from it in the engineered features you created should be retained. As a reminder, your data should only be from **the subset with few or no missing values**."
   ]
  },
  {
   "cell_type": "code",
   "execution_count": 43,
   "metadata": {},
   "outputs": [],
   "source": [
    "# If there are other re-engineering tasks you need to perform, make sure you\n",
    "# take care of them here. (Dealing with missing data will come in step 2.1.)\n",
    "\n"
   ]
  },
  {
   "cell_type": "code",
   "execution_count": 44,
   "metadata": {},
   "outputs": [
    {
     "name": "stdout",
     "output_type": "stream",
     "text": [
      "dtypes within the dataset:\n"
     ]
    },
    {
     "data": {
      "text/plain": [
       "array([dtype('float64'), dtype('uint8')], dtype=object)"
      ]
     },
     "metadata": {},
     "output_type": "display_data"
    }
   ],
   "source": [
    "print('dtypes within the dataset:')\n",
    "display(azdias.dtypes.unique())"
   ]
  },
  {
   "cell_type": "code",
   "execution_count": 45,
   "metadata": {},
   "outputs": [
    {
     "name": "stdout",
     "output_type": "stream",
     "text": [
      "Data Cleaned and handled - NOTE the threshold for NaNs may be too optimisitic\n"
     ]
    }
   ],
   "source": [
    "print('Data Cleaned and handled - NOTE the threshold for NaNs may be too '\n",
    "      +'optimisitic')"
   ]
  },
  {
   "cell_type": "code",
   "execution_count": 46,
   "metadata": {},
   "outputs": [],
   "source": [
    "# Do whatever you need to in order to ensure that the dataframe only contains\n",
    "# the columns that should be passed to the algorithm functions.\n",
    "\n"
   ]
  },
  {
   "cell_type": "markdown",
   "metadata": {},
   "source": [
    "### Step 1.3: Create a Cleaning Function\n",
    "\n",
    "Even though you've finished cleaning up the general population demographics data, it's important to look ahead to the future and realize that you'll need to perform the same cleaning steps on the customer demographics data. In this substep, complete the function below to execute the main feature selection, encoding, and re-engineering steps you performed above. Then, when it comes to looking at the customer data in Step 3, you can just run this function on that DataFrame to get the trimmed dataset in a single step."
   ]
  },
  {
   "cell_type": "code",
   "execution_count": 47,
   "metadata": {},
   "outputs": [],
   "source": [
    "from IPython.display import display\n",
    "import matplotlib.pyplot as plt\n",
    "import numpy as np\n",
    "import pandas as pd\n",
    "from pathlib import Path\n",
    "import seaborn as sns\n",
    "from sklearn.decomposition import PCA\n",
    "from sklearn.impute import SimpleImputer\n",
    "from sklearn.pipeline import Pipeline\n",
    "from sklearn.preprocessing import StandardScaler\n",
    "\n",
    "\n",
    "# magic word for producing visualizations in notebook\n",
    "%matplotlib inline\n",
    "\n",
    "\n",
    "def clean_data(df, min_nan_col=6, min_nan_row=2):\n",
    "    \"\"\"\n",
    "    Perform feature trimming, re-encoding, and engineering for demographics\n",
    "    data\n",
    "    \n",
    "    INPUT: Demographics DataFrame\n",
    "    OUTPUT: Trimmed and cleaned demographics DataFrame\n",
    "    \"\"\"\n",
    "    feat_file = Path.cwd() / 'AZDIAS_Feature_Summary.csv'\n",
    "    feat_info = pd.read_csv(feat_file, delimiter=';')\n",
    "\n",
    "    nan_cols = ['TITEL_KZ', 'AGER_TYP', 'KK_KUNDENTYP',\n",
    "                'KBA05_BAUMAX', 'GEBURTSJAHR', 'ALTER_HH']\n",
    "    categories = {'binary': ['ANREDE_KZ', 'GREEN_AVANTGARDE'],\n",
    "                  'multi':  ['FINANZTYP', 'LP_FAMILIE_GROB', \n",
    "                             'LP_STATUS_GROB', 'NATIONALITAET_KZ', \n",
    "                             'SHOPPER_TYP', 'SOHO_KZ', \n",
    "                             'VERS_TYP', 'ZABEOTYP', 'OST_WEST_KZ'],\n",
    "                  # add multi with category - still will be removed\n",
    "                  'remove': ['CJT_GESAMTTYP', 'GFK_URLAUBERTYP', \n",
    "                             'LP_FAMILIE_FEIN', 'LP_STATUS_FEIN',\n",
    "                             'GEBAEUDETYP', 'CAMEO_DEUG_2015',\n",
    "                             'CAMEO_DEU_2015'] + \n",
    "                            ['LP_LEBENSPHASE_FEIN', 'LP_LEBENSPHASE_GROB']}  \n",
    "    \n",
    "    # Put in code here to execute all main cleaning steps:\n",
    "    # convert missing value codes into NaNs, ...\n",
    "    df = df.copy()\n",
    "    df = convert_nans(df, feat_info)\n",
    "\n",
    "    # remove selected columns and rows, ...\n",
    "    \n",
    "    df = df.drop(nan_cols, axis=1)\n",
    "    df = get_multi_dummies(df,\n",
    "                           multi_cats=categories['multi'],\n",
    "                           bin_cats=categories['binary'], \n",
    "                           drop_cats=categories['remove'])\n",
    "\n",
    "    \n",
    "    # select, re-encode, and engineer column values.\n",
    "    df = (df.pipe(process_jugnedjahre_unique)\n",
    "            .pipe(process_cameo_unique)\n",
    "            .pipe(process_wohnlage_unique)\n",
    "            .pipe(process_plz8_unique)\n",
    "    )\n",
    "    df, _ = split_on_nan(df, min_nan_row)\n",
    "    # Return the cleaned dataframe.\n",
    "    return df\n",
    "    "
   ]
  },
  {
   "cell_type": "code",
   "execution_count": 48,
   "metadata": {},
   "outputs": [],
   "source": [
    "azdias_clean = (\n",
    "    pd.read_csv('Udacity_AZDIAS_Subset.csv', delimiter=';')\n",
    "    .pipe(lambda df: clean_data(df, min_nan_row=0))\n",
    ")"
   ]
  },
  {
   "cell_type": "code",
   "execution_count": null,
   "metadata": {},
   "outputs": [],
   "source": []
  },
  {
   "cell_type": "markdown",
   "metadata": {},
   "source": [
    "## Step 2: Feature Transformation\n",
    "\n",
    "### Step 2.1: Apply Feature Scaling\n",
    "\n",
    "Before we apply dimensionality reduction techniques to the data, we need to perform feature scaling so that the principal component vectors are not influenced by the natural differences in scale for features. Starting from this part of the project, you'll want to keep an eye on the [API reference page for sklearn](http://scikit-learn.org/stable/modules/classes.html) to help you navigate to all of the classes and functions that you'll need. In this substep, you'll need to check the following:\n",
    "\n",
    "- sklearn requires that data not have missing values in order for its estimators to work properly. So, before applying the scaler to your data, make sure that you've cleaned the DataFrame of the remaining missing values. This can be as simple as just removing all data points with missing data, or applying an [Imputer](http://scikit-learn.org/stable/modules/generated/sklearn.preprocessing.Imputer.html) to replace all missing values. You might also try a more complicated procedure where you temporarily remove missing values in order to compute the scaling parameters before re-introducing those missing values and applying imputation. Think about how much missing data you have and what possible effects each approach might have on your analysis, and justify your decision in the discussion section below.\n",
    "- For the actual scaling function, a [StandardScaler](http://scikit-learn.org/stable/modules/generated/sklearn.preprocessing.StandardScaler.html) instance is suggested, scaling each feature to mean 0 and standard deviation 1.\n",
    "- For these classes, you can make use of the `.fit_transform()` method to both fit a procedure to the data as well as apply the transformation to the data at the same time. Don't forget to keep the fit sklearn objects handy, since you'll be applying them to the customer demographics data towards the end of the project."
   ]
  },
  {
   "cell_type": "code",
   "execution_count": 49,
   "metadata": {},
   "outputs": [],
   "source": [
    "# If you've not yet cleaned the dataset of all NaN values, then investigate and\n",
    "# do that now."
   ]
  },
  {
   "cell_type": "code",
   "execution_count": 50,
   "metadata": {},
   "outputs": [
    {
     "data": {
      "text/plain": [
       "0"
      ]
     },
     "execution_count": 50,
     "metadata": {},
     "output_type": "execute_result"
    }
   ],
   "source": [
    "azdias_clean.isna().sum(axis=1).max()"
   ]
  },
  {
   "cell_type": "code",
   "execution_count": 51,
   "metadata": {},
   "outputs": [],
   "source": [
    "# Apply feature scaling to the general population demographics data.\n",
    "\n"
   ]
  },
  {
   "cell_type": "code",
   "execution_count": null,
   "metadata": {},
   "outputs": [],
   "source": []
  },
  {
   "cell_type": "code",
   "execution_count": 98,
   "metadata": {},
   "outputs": [],
   "source": [
    "preproc = Pipeline([\n",
    "    ('imputer', SimpleImputer(strategy='median')),\n",
    "    ('scaler', StandardScaler())\n",
    "])\n",
    "azdias_scaled = preproc.fit_transform(azdias_clean)"
   ]
  },
  {
   "cell_type": "markdown",
   "metadata": {},
   "source": [
    "### Discussion 2.1: Apply Feature Scaling\n",
    "\n",
    "(Double-click this cell and replace this text with your own text, reporting your decisions regarding feature scaling.)"
   ]
  },
  {
   "cell_type": "markdown",
   "metadata": {},
   "source": [
    "*[ACM] For scaling, I created a Pipeline first with a SimpleImputer with a median strategy to filter nan values \n",
    "to the most common value - a step unecessary for the current dataset, but may be necessary and is good practice\n",
    "for future datasets. The second step I used to preprocess the data was a StandardScaler to scale all of the values\n",
    "to 0 mean and 1 standard deviation to prevent any uneven results between features when performing future steps \n",
    "(such as PCA)*"
   ]
  },
  {
   "cell_type": "markdown",
   "metadata": {},
   "source": [
    "### Step 2.2: Perform Dimensionality Reduction\n",
    "\n",
    "On your scaled data, you are now ready to apply dimensionality reduction techniques.\n",
    "\n",
    "- Use sklearn's [PCA](http://scikit-learn.org/stable/modules/generated/sklearn.decomposition.PCA.html) class to apply principal component analysis on the data, thus finding the vectors of maximal variance in the data. To start, you should not set any parameters (so all components are computed) or set a number of components that is at least half the number of features (so there's enough features to see the general trend in variability).\n",
    "- Check out the ratio of variance explained by each principal component as well as the cumulative variance explained. Try plotting the cumulative or sequential values using matplotlib's [`plot()`](https://matplotlib.org/api/_as_gen/matplotlib.pyplot.plot.html) function. Based on what you find, select a value for the number of transformed features you'll retain for the clustering part of the project.\n",
    "- Once you've made a choice for the number of components to keep, make sure you re-fit a PCA instance to perform the decided-on transformation."
   ]
  },
  {
   "cell_type": "code",
   "execution_count": 99,
   "metadata": {},
   "outputs": [],
   "source": [
    "# Apply PCA to the data."
   ]
  },
  {
   "cell_type": "code",
   "execution_count": 102,
   "metadata": {},
   "outputs": [],
   "source": [
    "pca = PCA()\n",
    "res = pca.fit_transform(azdias_scaled)"
   ]
  },
  {
   "cell_type": "code",
   "execution_count": 103,
   "metadata": {},
   "outputs": [],
   "source": [
    "# Investigate the variance accounted for by each principal component."
   ]
  },
  {
   "cell_type": "code",
   "execution_count": 104,
   "metadata": {},
   "outputs": [
    {
     "data": {
      "image/png": "[encoded data removed]",
      "text/plain": [
       "<Figure size 720x864 with 2 Axes>"
      ]
     },
     "metadata": {
      "needs_background": "light"
     },
     "output_type": "display_data"
    }
   ],
   "source": [
    "vars = pca.explained_variance_ratio_\n",
    "n = 80\n",
    "fig, axs = plt.subplots(2,1, figsize=(10,12))\n",
    "for i, n in enumerate([40, 80]):\n",
    "    \n",
    "    # Citation - Components dirived form Interpret_PCA_Results from Udacity's\n",
    "    # Machine Learning Oourse\n",
    "    axs[i].bar(range(n), vars[:n])\n",
    "    axs[i].plot(range(n), vars.cumsum()[:n])\n",
    "    axs[i].set_ylabel('Variance Explained (%)',\n",
    "                 fontweight='bold', \n",
    "                 fontsize=12)\n",
    "    axs[i].set_xlabel('Principal Component', \n",
    "                 fontweight='bold', \n",
    "                 fontsize=12)\n",
    "    axs[i].set_title(f'Explained Variance Per Principal Component (top_n={n})', \n",
    "                 fontweight='bold', \n",
    "                 fontsize=16)\n",
    "plt.show()"
   ]
  },
  {
   "cell_type": "code",
   "execution_count": 105,
   "metadata": {},
   "outputs": [],
   "source": [
    "# Re-apply PCA to the data while selecting for number of components to retain."
   ]
  },
  {
   "cell_type": "code",
   "execution_count": 106,
   "metadata": {},
   "outputs": [],
   "source": [
    "pipeline_pca = PCA(n_components=40)\n",
    "data = pipeline_pca.fit_transform(azdias_scaled)"
   ]
  },
  {
   "cell_type": "markdown",
   "metadata": {},
   "source": [
    "### Discussion 2.2: Perform Dimensionality Reduction\n",
    "\n",
    "(Double-click this cell and replace this text with your own text, reporting your findings and decisions regarding dimensionality reduction. How many principal components / transformed features are you retaining for the next step of the analysis?)"
   ]
  },
  {
   "cell_type": "markdown",
   "metadata": {},
   "source": [
    "*[ACM] The 40% of the variance is explained by the first 5 components, however there is a significant tail to the data, where the next 40% is explained by the next ~35 components (40 total) and the last ~20% is explained by the next ~40 components (80 total)). In an effort to retain 80% of the variance, 40 components will be retained, but a more aggrestive decomposition to retain 20 or even 10 components may be appropriate*"
   ]
  },
  {
   "cell_type": "markdown",
   "metadata": {},
   "source": [
    "### Step 2.3: Interpret Principal Components\n",
    "\n",
    "Now that we have our transformed principal components, it's a nice idea to check out the weight of each variable on the first few components to see if they can be interpreted in some fashion.\n",
    "\n",
    "As a reminder, each principal component is a unit vector that points in the direction of highest variance (after accounting for the variance captured by earlier principal components). The further a weight is from zero, the more the principal component is in the direction of the corresponding feature. If two features have large weights of the same sign (both positive or both negative), then increases in one tend expect to be associated with increases in the other. To contrast, features with different signs can be expected to show a negative correlation: increases in one variable should result in a decrease in the other.\n",
    "\n",
    "- To investigate the features, you should map each weight to their corresponding feature name, then sort the features according to weight. The most interesting features for each principal component, then, will be those at the beginning and end of the sorted list. Use the data dictionary document to help you understand these most prominent features, their relationships, and what a positive or negative value on the principal component might indicate.\n",
    "- You should investigate and interpret feature associations from the first three principal components in this substep. To help facilitate this, you should write a function that you can call at any time to print the sorted list of feature weights, for the *i*-th principal component. This might come in handy in the next step of the project, when you interpret the tendencies of the discovered clusters."
   ]
  },
  {
   "cell_type": "code",
   "execution_count": 107,
   "metadata": {},
   "outputs": [],
   "source": [
    "# Map weights for the first principal component to corresponding feature names\n",
    "# and then print the linked values, sorted by weight.\n",
    "# HINT: Try defining a function here or in a new cell that you can reuse in the\n",
    "# other cells.\n",
    "\n"
   ]
  },
  {
   "cell_type": "code",
   "execution_count": 172,
   "metadata": {},
   "outputs": [],
   "source": [
    "def get_feature_translation(file: str) -> dict:\n",
    "    \"\"\"Return a translation of features\"\"\"\n",
    "    feats = {}\n",
    "    read_next = False\n",
    "    with open(file, 'r') as fh:\n",
    "        for line in fh.readlines():\n",
    "            if line.startswith('###'):\n",
    "                read_next = True\n",
    "                key = line.strip('###').split('.')[-1].strip()\n",
    "                feats[key] = None\n",
    "            elif read_next:\n",
    "                feats[key] = line.strip()\n",
    "                read_next = False\n",
    "    return feats\n",
    "        "
   ]
  },
  {
   "cell_type": "code",
   "execution_count": 174,
   "metadata": {},
   "outputs": [
    {
     "data": {
      "text/plain": [
       "{'Table of Contents': '',\n",
       " 'AGER_TYP': 'Best-ager typology',\n",
       " 'ALTERSKATEGORIE_GROB': 'Estimated age based on given name analysis',\n",
       " 'ANREDE_KZ': 'Gender',\n",
       " 'CJT_GESAMTTYP': 'Customer-Journey-Typology: preferred information and buying channels for',\n",
       " 'FINANZ_MINIMALIST, FINANZ_SPARER, FINANZ_VORSORGER, FINANZ_ANLEGER,': None,\n",
       " 'FINANZ_UNAUFFAELLIGER, FINANZ_HAUSBAUER': 'Financial typology, for each dimension:',\n",
       " 'FINANZTYP': 'Most descriptive financial type for individual',\n",
       " 'GEBURTSJAHR': 'Year of birth',\n",
       " 'GFK_URLAUBERTYP': 'Vacation habits',\n",
       " 'GREEN_AVANTGARDE': 'Membership in environmental sustainability as part of youth',\n",
       " 'HEALTH_TYP': 'Health typology',\n",
       " 'LP_LEBENSPHASE_FEIN': 'Life stage, fine scale',\n",
       " 'LP_LEBENSPHASE_GROB': 'Life stage, rough scale',\n",
       " 'LP_FAMILIE_FEIN': 'Family type, fine scale',\n",
       " 'LP_FAMILIE_GROB': 'Family type, rough scale',\n",
       " 'LP_STATUS_FEIN': 'Social status, fine scale',\n",
       " 'LP_STATUS_GROB': 'Social status, rough scale',\n",
       " 'NATIONALITAET_KZ': 'Nationality based on given name analysis',\n",
       " 'PRAEGENDE_JUGENDJAHRE': \"Dominating movement of person's youth (avantgarde vs. mainstream; east vs. west)\",\n",
       " 'RETOURTYP_BK_S': 'Return type',\n",
       " 'SEMIO_SOZ, SEMIO_FAM, SEMIO_REL, SEMIO_MAT, SEMIO_VERT, SEMIO_LUST,': None,\n",
       " 'SEMIO_ERL, SEMIO_KULT, SEMIO_RAT, SEMIO_KRIT, SEMIO_DOM, SEMIO_KAEM,': None,\n",
       " 'SEMIO_PFLICHT, SEMIO_TRADV': 'Personality typology, for each dimension:',\n",
       " 'SHOPPER_TYP': 'Shopper typology',\n",
       " 'SOHO_KZ': 'Small office / home office flag',\n",
       " 'TITEL_KZ': 'Academic title flag',\n",
       " 'VERS_TYP': 'Insurance typology',\n",
       " 'ZABEOTYP': 'Energy consumption typology',\n",
       " 'ALTER_HH': 'Birthdate of head of household',\n",
       " 'ANZ_PERSONEN': 'Number of adults in household',\n",
       " 'ANZ_TITEL': 'Number of professional academic title holders in household',\n",
       " 'HH_EINKOMMEN_SCORE': 'Estimated household net income',\n",
       " 'KK_KUNDENTYP': 'Consumer pattern over past 12 months',\n",
       " 'W_KEIT_KIND_HH': 'Likelihood of children in household',\n",
       " 'WOHNDAUER_2008': 'Length of residence',\n",
       " 'ANZ_HAUSHALTE_AKTIV': 'Number of households in the building',\n",
       " 'ANZ_HH_TITEL': 'Number of professional academic title holders in building',\n",
       " 'GEBAEUDETYP': 'Type of building (residential vs. commercial)',\n",
       " 'KONSUMNAEHE': 'Distance from building to point of sale (PoS)',\n",
       " 'MIN_GEBAEUDEJAHR': 'First year building was mentioned in the database',\n",
       " 'OST_WEST_KZ': 'Building location via former East / West Germany (GDR / FRG)',\n",
       " 'WOHNLAGE': 'Neighborhood quality (or rural flag)',\n",
       " 'CAMEO_DEUG_2015': 'German CAMEO: Wealth / Life Stage Typology, rough scale',\n",
       " 'CAMEO_DEU_2015': 'German CAMEO: Wealth / Life Stage Typology, detailed scale',\n",
       " 'CAMEO_INTL_2015': 'German CAMEO: Wealth / Life Stage Typology, mapped to international code',\n",
       " 'KBA05_ANTG1': 'Number of 1-2 family houses in the microcell',\n",
       " 'KBA05_ANTG2': 'Number of 3-5 family houses in the microcell',\n",
       " 'KBA05_ANTG3': 'Number of 6-10 family houses in the microcell',\n",
       " 'KBA05_ANTG4': 'Number of 10+ family houses in the microcell',\n",
       " 'KBA05_BAUMAX': 'Most common building type within the microcell',\n",
       " 'KBA05_GBZ': 'Number of buildings in the microcell',\n",
       " 'BALLRAUM': 'Distance to nearest urban center',\n",
       " 'EWDICHTE': 'Density of households per square kilometer',\n",
       " 'INNENSTADT': 'Distance to city center (downtown)',\n",
       " 'GEBAEUDETYP_RASTER': 'Ratio of residential to commercial activity',\n",
       " 'KKK': 'Purchasing power in region',\n",
       " 'MOBI_REGIO': 'Movement patterns',\n",
       " 'ONLINE_AFFINITAET': 'Online affinity',\n",
       " 'REGIOTYP': 'Neighborhood typology',\n",
       " 'KBA13_ANZAHL_PKW': 'Number of cars in the PLZ8 region',\n",
       " 'PLZ8_ANTG1': 'Number of 1-2 family houses in the PLZ8 region',\n",
       " 'PLZ8_ANTG2': 'Number of 3-5 family houses in the PLZ8 region',\n",
       " 'PLZ8_ANTG3': 'Number of 6-10 family houses in the PLZ8 region',\n",
       " 'PLZ8_ANTG4': 'Number of 10+ family houses in the PLZ8 region',\n",
       " 'PLZ8_BAUMAX': 'Most common building type within the PLZ8 region',\n",
       " 'PLZ8_HHZ': 'Number of households within the PLZ8 region',\n",
       " 'PLZ8_GBZ': 'Number of buildings within the PLZ8 region',\n",
       " 'ARBEIT': 'Share of unemployment in community',\n",
       " 'ORTSGR_KLS9': 'Size of community',\n",
       " 'RELAT_AB': 'Share of unemployment relative to county in which community is contained'}"
      ]
     },
     "execution_count": 174,
     "metadata": {},
     "output_type": "execute_result"
    }
   ],
   "source": [
    "feats = get_feature_translation('Data_Dictionary.md')\n",
    "feats"
   ]
  },
  {
   "cell_type": "code",
   "execution_count": 152,
   "metadata": {},
   "outputs": [],
   "source": [
    "def get_pc_weight(model_components, corresponding_names):\n",
    "    dict = {col: weight for col, weight in \n",
    "            zip(corresponding_names, model_components)}\n",
    "    ser = pd.Series(dict, name='mse')\n",
    "    ser = ser.sort_values(ascending=False)\n",
    "    return ser"
   ]
  },
  {
   "cell_type": "code",
   "execution_count": 153,
   "metadata": {},
   "outputs": [
    {
     "data": {
      "text/plain": [
       "LP_STATUS_GROB_1.0        0.194030\n",
       "HH_EINKOMMEN_SCORE        0.192975\n",
       "FINANZ_SPARER             0.189556\n",
       "CAMEO_INTL_2015_income    0.168030\n",
       "PLZ8_ANTG3                0.159279\n",
       "                            ...   \n",
       "ALTERSKATEGORIE_GROB     -0.165912\n",
       "KBA05_GBZ                -0.166066\n",
       "KBA05_ANTG1              -0.183725\n",
       "MOBI_REGIO               -0.189275\n",
       "FINANZ_MINIMALIST        -0.224340\n",
       "Name: mse, Length: 100, dtype: float64"
      ]
     },
     "execution_count": 153,
     "metadata": {},
     "output_type": "execute_result"
    }
   ],
   "source": [
    "s = get_pc_weight(pipeline_pca.components_[0], azdias_clean.columns)\n",
    "s\n",
    "# Pos\n",
    "#  Rough social status\n",
    "#  Money Saver\n",
    "#  Wealth\n",
    "\n",
    "# Neg\n",
    "#   Low financial Interst\n",
    "#   Movement Patters\n",
    "#   1-2 Family cells\n"
   ]
  },
  {
   "cell_type": "code",
   "execution_count": null,
   "metadata": {},
   "outputs": [],
   "source": [
    "# Map weights for the second principal component to corresponding feature names\n",
    "# and then print the linked values, sorted by weight.\n",
    "\n"
   ]
  },
  {
   "cell_type": "code",
   "execution_count": 156,
   "metadata": {},
   "outputs": [
    {
     "data": {
      "text/plain": [
       "ALTERSKATEGORIE_GROB            0.200169\n",
       "ZABEOTYP_3.0                    0.197493\n",
       "SEMIO_ERL                       0.183033\n",
       "FINANZ_VORSORGER                0.177255\n",
       "RETOURTYP_BK_S                  0.152960\n",
       "                                  ...   \n",
       "SEMIO_PFLICHT                  -0.181476\n",
       "SEMIO_TRADV                    -0.185141\n",
       "FINANZ_UNAUFFAELLIGER          -0.196759\n",
       "PRAEGENDE_JUGENDJAHRE_decade   -0.199679\n",
       "SEMIO_REL                      -0.200806\n",
       "Name: mse, Length: 100, dtype: float64"
      ]
     },
     "execution_count": 156,
     "metadata": {},
     "output_type": "execute_result"
    }
   ],
   "source": [
    "s = get_pc_weight(pipeline_pca.components_[1], azdias_clean.columns)\n",
    "s\n",
    "# Pos\n",
    "#  Est Age given Name\n",
    "#  Energy Consumption\n",
    "#  Personality: Event\n",
    "\n",
    "# Neg\n",
    "#   Personality: Religious\n",
    "#   Movement by decade - Age\n",
    "#   Financial: Inconspicuous\n"
   ]
  },
  {
   "cell_type": "code",
   "execution_count": null,
   "metadata": {},
   "outputs": [],
   "source": [
    "# Map weights for the third principal component to corresponding feature names\n",
    "# and then print the linked values, sorted by weight."
   ]
  },
  {
   "cell_type": "code",
   "execution_count": 155,
   "metadata": {},
   "outputs": [
    {
     "data": {
      "text/plain": [
       "SEMIO_VERT       0.323857\n",
       "SEMIO_SOZ        0.258674\n",
       "SEMIO_FAM        0.254795\n",
       "SEMIO_KULT       0.236244\n",
       "FINANZTYP_5.0    0.142009\n",
       "                   ...   \n",
       "SEMIO_ERL       -0.184565\n",
       "SEMIO_KRIT      -0.259829\n",
       "SEMIO_DOM       -0.316345\n",
       "SEMIO_KAEM      -0.327374\n",
       "ANREDE_KZ_2.0   -0.349182\n",
       "Name: mse, Length: 100, dtype: float64"
      ]
     },
     "execution_count": 155,
     "metadata": {},
     "output_type": "execute_result"
    }
   ],
   "source": [
    "s = get_pc_weight(pipeline_pca.components_[2], azdias_clean.columns)\n",
    "s\n",
    "# Pos\n",
    "#  Personality: dreamful\n",
    "#  Personality: Family-minded\n",
    "#  Personality: cultural-minded\n",
    "\n",
    "# Neg\n",
    "#   Gender\n",
    "#   Personality: Combative attitude\n",
    "#   Personality: Dominant-minded\n"
   ]
  },
  {
   "cell_type": "markdown",
   "metadata": {},
   "source": [
    "### Discussion 2.3: Interpret Principal Components\n",
    "\n",
    "(Double-click this cell and replace this text with your own text, reporting your observations from detailed investigation of the first few principal components generated. Can we interpret positive and negative values from them in a meaningful way?)"
   ]
  },
  {
   "cell_type": "markdown",
   "metadata": {},
   "source": [
    "*[ACM] Reviewing the first three principle components, it seems that the most \n",
    "important aspect is most closely associated with financial status. The second \n",
    "principle component seems to be convolved between age, spending patters, and if \n",
    "individual is not religous. The third component seems to be strongly tied to a \n",
    "family driven personality absent of type-A personalities*"
   ]
  },
  {
   "cell_type": "markdown",
   "metadata": {},
   "source": [
    "## Step 3: Clustering\n",
    "\n",
    "### Step 3.1: Apply Clustering to General Population\n",
    "\n",
    "You've assessed and cleaned the demographics data, then scaled and transformed them. Now, it's time to see how the data clusters in the principal components space. In this substep, you will apply k-means clustering to the dataset and use the average within-cluster distances from each point to their assigned cluster's centroid to decide on a number of clusters to keep.\n",
    "\n",
    "- Use sklearn's [KMeans](http://scikit-learn.org/stable/modules/generated/sklearn.cluster.KMeans.html#sklearn.cluster.KMeans) class to perform k-means clustering on the PCA-transformed data.\n",
    "- Then, compute the average difference from each point to its assigned cluster's center. **Hint**: The KMeans object's `.score()` method might be useful here, but note that in sklearn, scores tend to be defined so that larger is better. Try applying it to a small, toy dataset, or use an internet search to help your understanding.\n",
    "- Perform the above two steps for a number of different cluster counts. You can then see how the average distance decreases with an increasing number of clusters. However, each additional cluster provides a smaller net benefit. Use this fact to select a final number of clusters in which to group the data. **Warning**: because of the large size of the dataset, it can take a long time for the algorithm to resolve. The more clusters to fit, the longer the algorithm will take. You should test for cluster counts through at least 10 clusters to get the full picture, but you shouldn't need to test for a number of clusters above about 30.\n",
    "- Once you've selected a final number of clusters to use, re-fit a KMeans instance to perform the clustering operation. Make sure that you also obtain the cluster assignments for the general demographics data, since you'll be using them in the final Step 3.3."
   ]
  },
  {
   "cell_type": "code",
   "execution_count": null,
   "metadata": {},
   "outputs": [],
   "source": [
    "# Over a number of different cluster counts...\n",
    "\n",
    "\n",
    "    # run k-means clustering on the data and...\n",
    "    \n",
    "    \n",
    "    # compute the average within-cluster distances.\n",
    "    \n",
    "    "
   ]
  },
  {
   "cell_type": "code",
   "execution_count": 176,
   "metadata": {},
   "outputs": [],
   "source": [
    "from sklearn.cluster import KMeans, MiniBatchKMeans"
   ]
  },
  {
   "cell_type": "code",
   "execution_count": 178,
   "metadata": {},
   "outputs": [],
   "source": [
    "rand1000 = [np.random.randint(0, len(data)) for _ in range(1000)]"
   ]
  },
  {
   "cell_type": "code",
   "execution_count": 183,
   "metadata": {},
   "outputs": [],
   "source": [
    "subset = data[rand1000, :]"
   ]
  },
  {
   "cell_type": "code",
   "execution_count": 226,
   "metadata": {},
   "outputs": [],
   "source": [
    "def get_kmeans_score(X, n) -> tuple['score', 'model']:\n",
    "    \"\"\"Return tuple of socre and model given data, X, and number of clusters, n\n",
    "    \"\"\"\n",
    "    clf = MiniBatchKMeans(n_clusters=n).fit(X)\n",
    "    return clf.score(X), clf"
   ]
  },
  {
   "cell_type": "code",
   "execution_count": 242,
   "metadata": {},
   "outputs": [
    {
     "data": {
      "text/plain": [
       "array([ 5,  7,  9, 11, 13, 15, 17, 19, 21, 23, 25, 27, 29])"
      ]
     },
     "execution_count": 242,
     "metadata": {},
     "output_type": "execute_result"
    }
   ],
   "source": [
    "np.arange(5, 31, 2)"
   ]
  },
  {
   "cell_type": "code",
   "execution_count": 228,
   "metadata": {},
   "outputs": [],
   "source": [
    "res = [get_kmeans_score(data, n) for n in np.arange(5, 31, 2)]"
   ]
  },
  {
   "cell_type": "code",
   "execution_count": 230,
   "metadata": {},
   "outputs": [],
   "source": [
    "scores, clfs = zip(*res)\n",
    "clusters = [clf.n_clusters for clf in clfs]\n",
    "\n",
    "# Since scores are the -SSE the mean distance should be approx sqrt(-score)\n",
    "mean_dist = [np.sqrt(-score) for score in scores]"
   ]
  },
  {
   "cell_type": "code",
   "execution_count": null,
   "metadata": {},
   "outputs": [],
   "source": [
    "# Investigate the change in within-cluster distance across number of clusters.\n",
    "# HINT: Use matplotlib's plot function to visualize this relationship.\n",
    "\n"
   ]
  },
  {
   "cell_type": "code",
   "execution_count": 241,
   "metadata": {},
   "outputs": [
    {
     "data": {
      "image/png": "[encoded data removed]",
      "text/plain": [
       "<Figure size 432x288 with 1 Axes>"
      ]
     },
     "metadata": {
      "needs_background": "light"
     },
     "output_type": "display_data"
    }
   ],
   "source": [
    "ax = plt.subplot(1,1,1)\n",
    "ax.plot(clusters, mean_dist)\n",
    "ax.set_xlabel('KMeans Clusters')\n",
    "ax.set_ylabel('Mean Distance from Cluster Center')\n",
    "plt.show()"
   ]
  },
  {
   "cell_type": "code",
   "execution_count": 263,
   "metadata": {},
   "outputs": [],
   "source": [
    "# Re-fit the k-means model with the selected number of clusters and obtain\n",
    "# cluster predictions for the general population demographics data.\n",
    "try:\n",
    "    # previous model already fit with demographics data\n",
    "    idx = clusters.index(21)\n",
    "    pipeline_kmeans = clfs[idx]\n",
    "except NameError:\n",
    "    # refit if cells were skipped\n",
    "    pipeline_kmeans = MiniBatchKMeans(n_clusters=21)\n",
    "    pipeline_kmeans.fit(data)\n",
    "results = pipeline_kmeans.predict(data)"
   ]
  },
  {
   "cell_type": "markdown",
   "metadata": {},
   "source": [
    "### Discussion 3.1: Apply Clustering to General Population\n",
    "\n",
    "(Double-click this cell and replace this text with your own text, reporting your findings and decisions regarding clustering. Into how many clusters have you decided to segment the population?)"
   ]
  },
  {
   "cell_type": "markdown",
   "metadata": {},
   "source": [
    "*[ACM] Interpreting the data, there seems to be a knee (change in derivative)\n",
    "within the curve at 13 and 21 clusters. Given the guidance that the number of \n",
    "clusters should be below 30 and there seems to be diminishing results from \n",
    "increased number of clusters > 21, I have chosen to select 21 clusters for the \n",
    "KMeans model.*"
   ]
  },
  {
   "cell_type": "markdown",
   "metadata": {},
   "source": [
    "### Step 3.2: Apply All Steps to the Customer Data\n",
    "\n",
    "Now that you have clusters and cluster centers for the general population, it's time to see how the customer data maps on to those clusters. Take care to not confuse this for re-fitting all of the models to the customer data. Instead, you're going to use the fits from the general population to clean, transform, and cluster the customer data. In the last step of the project, you will interpret how the general population fits apply to the customer data.\n",
    "\n",
    "- Don't forget when loading in the customers data, that it is semicolon (`;`) delimited.\n",
    "- Apply the same feature wrangling, selection, and engineering steps to the customer demographics using the `clean_data()` function you created earlier. (You can assume that the customer demographics data has similar meaning behind missing data patterns as the general demographics data.)\n",
    "- Use the sklearn objects from the general demographics data, and apply their transformations to the customers data. That is, you should not be using a `.fit()` or `.fit_transform()` method to re-fit the old objects, nor should you be creating new sklearn objects! Carry the data through the feature scaling, PCA, and clustering steps, obtaining cluster assignments for all of the data in the customer demographics data."
   ]
  },
  {
   "cell_type": "code",
   "execution_count": 253,
   "metadata": {},
   "outputs": [],
   "source": [
    "# Load in the customer demographics data.\n",
    "customers = (\n",
    "    pd.read_csv('Udacity_CUSTOMERS_Subset.csv', delimiter=';')\n",
    "    .pipe(lambda df: clean_data(df, min_nan_row=np.inf)) \n",
    "    # prevent removal of data - use imputer below\n",
    ")"
   ]
  },
  {
   "cell_type": "code",
   "execution_count": 254,
   "metadata": {},
   "outputs": [
    {
     "data": {
      "text/html": [
       "<div>\n",
       "<style scoped>\n",
       "    .dataframe tbody tr th:only-of-type {\n",
       "        vertical-align: middle;\n",
       "    }\n",
       "\n",
       "    .dataframe tbody tr th {\n",
       "        vertical-align: top;\n",
       "    }\n",
       "\n",
       "    .dataframe thead th {\n",
       "        text-align: right;\n",
       "    }\n",
       "</style>\n",
       "<table border=\"1\" class=\"dataframe\">\n",
       "  <thead>\n",
       "    <tr style=\"text-align: right;\">\n",
       "      <th></th>\n",
       "      <th>ALTERSKATEGORIE_GROB</th>\n",
       "      <th>FINANZ_MINIMALIST</th>\n",
       "      <th>FINANZ_SPARER</th>\n",
       "      <th>FINANZ_VORSORGER</th>\n",
       "      <th>FINANZ_ANLEGER</th>\n",
       "      <th>FINANZ_UNAUFFAELLIGER</th>\n",
       "      <th>FINANZ_HAUSBAUER</th>\n",
       "      <th>HEALTH_TYP</th>\n",
       "      <th>RETOURTYP_BK_S</th>\n",
       "      <th>SEMIO_SOZ</th>\n",
       "      <th>...</th>\n",
       "      <th>ANREDE_KZ_2.0</th>\n",
       "      <th>GREEN_AVANTGARDE_1</th>\n",
       "      <th>PRAEGENDE_JUGENDJAHRE_decade</th>\n",
       "      <th>PRAEGENDE_JUGENDJAHRE_movement</th>\n",
       "      <th>CAMEO_INTL_2015_income</th>\n",
       "      <th>CAMEO_INTL_2015_life_stage</th>\n",
       "      <th>WOHNLAGE_rural</th>\n",
       "      <th>WOHNLAGE_location_quality</th>\n",
       "      <th>PLZ8_BAUMAX_business</th>\n",
       "      <th>PLZ8_BAUMAX_housing_size</th>\n",
       "    </tr>\n",
       "  </thead>\n",
       "  <tbody>\n",
       "    <tr>\n",
       "      <th>0</th>\n",
       "      <td>4.0</td>\n",
       "      <td>5.0</td>\n",
       "      <td>1.0</td>\n",
       "      <td>5.0</td>\n",
       "      <td>1.0</td>\n",
       "      <td>2.0</td>\n",
       "      <td>2.0</td>\n",
       "      <td>1.0</td>\n",
       "      <td>5.0</td>\n",
       "      <td>6.0</td>\n",
       "      <td>...</td>\n",
       "      <td>0</td>\n",
       "      <td>1</td>\n",
       "      <td>5.0</td>\n",
       "      <td>1.0</td>\n",
       "      <td>1.0</td>\n",
       "      <td>3.0</td>\n",
       "      <td>1.0</td>\n",
       "      <td>NaN</td>\n",
       "      <td>0.0</td>\n",
       "      <td>1.0</td>\n",
       "    </tr>\n",
       "    <tr>\n",
       "      <th>1</th>\n",
       "      <td>4.0</td>\n",
       "      <td>5.0</td>\n",
       "      <td>1.0</td>\n",
       "      <td>5.0</td>\n",
       "      <td>1.0</td>\n",
       "      <td>3.0</td>\n",
       "      <td>2.0</td>\n",
       "      <td>1.0</td>\n",
       "      <td>NaN</td>\n",
       "      <td>3.0</td>\n",
       "      <td>...</td>\n",
       "      <td>0</td>\n",
       "      <td>0</td>\n",
       "      <td>NaN</td>\n",
       "      <td>NaN</td>\n",
       "      <td>NaN</td>\n",
       "      <td>NaN</td>\n",
       "      <td>NaN</td>\n",
       "      <td>NaN</td>\n",
       "      <td>NaN</td>\n",
       "      <td>NaN</td>\n",
       "    </tr>\n",
       "    <tr>\n",
       "      <th>2</th>\n",
       "      <td>4.0</td>\n",
       "      <td>5.0</td>\n",
       "      <td>1.0</td>\n",
       "      <td>5.0</td>\n",
       "      <td>1.0</td>\n",
       "      <td>4.0</td>\n",
       "      <td>4.0</td>\n",
       "      <td>2.0</td>\n",
       "      <td>5.0</td>\n",
       "      <td>2.0</td>\n",
       "      <td>...</td>\n",
       "      <td>1</td>\n",
       "      <td>1</td>\n",
       "      <td>5.0</td>\n",
       "      <td>1.0</td>\n",
       "      <td>3.0</td>\n",
       "      <td>4.0</td>\n",
       "      <td>0.0</td>\n",
       "      <td>2.0</td>\n",
       "      <td>0.0</td>\n",
       "      <td>3.0</td>\n",
       "    </tr>\n",
       "    <tr>\n",
       "      <th>3</th>\n",
       "      <td>4.0</td>\n",
       "      <td>5.0</td>\n",
       "      <td>1.0</td>\n",
       "      <td>5.0</td>\n",
       "      <td>2.0</td>\n",
       "      <td>1.0</td>\n",
       "      <td>2.0</td>\n",
       "      <td>2.0</td>\n",
       "      <td>3.0</td>\n",
       "      <td>6.0</td>\n",
       "      <td>...</td>\n",
       "      <td>0</td>\n",
       "      <td>0</td>\n",
       "      <td>4.0</td>\n",
       "      <td>0.0</td>\n",
       "      <td>2.0</td>\n",
       "      <td>4.0</td>\n",
       "      <td>1.0</td>\n",
       "      <td>NaN</td>\n",
       "      <td>0.0</td>\n",
       "      <td>1.0</td>\n",
       "    </tr>\n",
       "    <tr>\n",
       "      <th>4</th>\n",
       "      <td>3.0</td>\n",
       "      <td>3.0</td>\n",
       "      <td>1.0</td>\n",
       "      <td>4.0</td>\n",
       "      <td>4.0</td>\n",
       "      <td>5.0</td>\n",
       "      <td>2.0</td>\n",
       "      <td>3.0</td>\n",
       "      <td>5.0</td>\n",
       "      <td>4.0</td>\n",
       "      <td>...</td>\n",
       "      <td>0</td>\n",
       "      <td>0</td>\n",
       "      <td>7.0</td>\n",
       "      <td>0.0</td>\n",
       "      <td>4.0</td>\n",
       "      <td>1.0</td>\n",
       "      <td>0.0</td>\n",
       "      <td>3.0</td>\n",
       "      <td>0.0</td>\n",
       "      <td>2.0</td>\n",
       "    </tr>\n",
       "  </tbody>\n",
       "</table>\n",
       "<p>5 rows × 100 columns</p>\n",
       "</div>"
      ],
      "text/plain": [
       "   ALTERSKATEGORIE_GROB  FINANZ_MINIMALIST  FINANZ_SPARER  FINANZ_VORSORGER  \\\n",
       "0                   4.0                5.0            1.0               5.0   \n",
       "1                   4.0                5.0            1.0               5.0   \n",
       "2                   4.0                5.0            1.0               5.0   \n",
       "3                   4.0                5.0            1.0               5.0   \n",
       "4                   3.0                3.0            1.0               4.0   \n",
       "\n",
       "   FINANZ_ANLEGER  FINANZ_UNAUFFAELLIGER  FINANZ_HAUSBAUER  HEALTH_TYP  \\\n",
       "0             1.0                    2.0               2.0         1.0   \n",
       "1             1.0                    3.0               2.0         1.0   \n",
       "2             1.0                    4.0               4.0         2.0   \n",
       "3             2.0                    1.0               2.0         2.0   \n",
       "4             4.0                    5.0               2.0         3.0   \n",
       "\n",
       "   RETOURTYP_BK_S  SEMIO_SOZ  ...  ANREDE_KZ_2.0  GREEN_AVANTGARDE_1  \\\n",
       "0             5.0        6.0  ...              0                   1   \n",
       "1             NaN        3.0  ...              0                   0   \n",
       "2             5.0        2.0  ...              1                   1   \n",
       "3             3.0        6.0  ...              0                   0   \n",
       "4             5.0        4.0  ...              0                   0   \n",
       "\n",
       "   PRAEGENDE_JUGENDJAHRE_decade  PRAEGENDE_JUGENDJAHRE_movement  \\\n",
       "0                           5.0                             1.0   \n",
       "1                           NaN                             NaN   \n",
       "2                           5.0                             1.0   \n",
       "3                           4.0                             0.0   \n",
       "4                           7.0                             0.0   \n",
       "\n",
       "   CAMEO_INTL_2015_income  CAMEO_INTL_2015_life_stage  WOHNLAGE_rural  \\\n",
       "0                     1.0                         3.0             1.0   \n",
       "1                     NaN                         NaN             NaN   \n",
       "2                     3.0                         4.0             0.0   \n",
       "3                     2.0                         4.0             1.0   \n",
       "4                     4.0                         1.0             0.0   \n",
       "\n",
       "   WOHNLAGE_location_quality  PLZ8_BAUMAX_business  PLZ8_BAUMAX_housing_size  \n",
       "0                        NaN                   0.0                       1.0  \n",
       "1                        NaN                   NaN                       NaN  \n",
       "2                        2.0                   0.0                       3.0  \n",
       "3                        NaN                   0.0                       1.0  \n",
       "4                        3.0                   0.0                       2.0  \n",
       "\n",
       "[5 rows x 100 columns]"
      ]
     },
     "execution_count": 254,
     "metadata": {},
     "output_type": "execute_result"
    }
   ],
   "source": [
    "customers.head()"
   ]
  },
  {
   "cell_type": "code",
   "execution_count": 259,
   "metadata": {},
   "outputs": [],
   "source": [
    "# Apply preprocessing, feature transformation, and clustering from the general\n",
    "# demographics onto the customer data, obtaining cluster predictions for the\n",
    "# customer demographics data.\n",
    "customer_data = preproc.transform(customers)\n",
    "customer_data = pipeline_pca.transform(customer_data)\n",
    "customer_results = pipeline_kmeans.predict(customer_data)"
   ]
  },
  {
   "cell_type": "code",
   "execution_count": 262,
   "metadata": {},
   "outputs": [
    {
     "data": {
      "text/plain": [
       "array([1, 7, 3, 7, 4, 1, 1, 1, 9, 1])"
      ]
     },
     "metadata": {},
     "output_type": "display_data"
    }
   ],
   "source": [
    "display(customer_results[:10])"
   ]
  },
  {
   "cell_type": "markdown",
   "metadata": {},
   "source": [
    "### Step 3.3: Compare Customer Data to Demographics Data\n",
    "\n",
    "At this point, you have clustered data based on demographics of the general population of Germany, and seen how the customer data for a mail-order sales company maps onto those demographic clusters. In this final substep, you will compare the two cluster distributions to see where the strongest customer base for the company is.\n",
    "\n",
    "Consider the proportion of persons in each cluster for the general population, and the proportions for the customers. If we think the company's customer base to be universal, then the cluster assignment proportions should be fairly similar between the two. If there are only particular segments of the population that are interested in the company's products, then we should see a mismatch from one to the other. If there is a higher proportion of persons in a cluster for the customer data compared to the general population (e.g. 5% of persons are assigned to a cluster for the general population, but 15% of the customer data is closest to that cluster's centroid) then that suggests the people in that cluster to be a target audience for the company. On the other hand, the proportion of the data in a cluster being larger in the general population than the customer data (e.g. only 2% of customers closest to a population centroid that captures 6% of the data) suggests that group of persons to be outside of the target demographics.\n",
    "\n",
    "Take a look at the following points in this step:\n",
    "\n",
    "- Compute the proportion of data points in each cluster for the general population and the customer data. Visualizations will be useful here: both for the individual dataset proportions, but also to visualize the ratios in cluster representation between groups. Seaborn's [`countplot()`](https://seaborn.pydata.org/generated/seaborn.countplot.html) or [`barplot()`](https://seaborn.pydata.org/generated/seaborn.barplot.html) function could be handy.\n",
    "  - Recall the analysis you performed in step 1.1.3 of the project, where you separated out certain data points from the dataset if they had more than a specified threshold of missing values. If you found that this group was qualitatively different from the main bulk of the data, you should treat this as an additional data cluster in this analysis. Make sure that you account for the number of data points in this subset, for both the general population and customer datasets, when making your computations!\n",
    "- Which cluster or clusters are overrepresented in the customer dataset compared to the general population? Select at least one such cluster and infer what kind of people might be represented by that cluster. Use the principal component interpretations from step 2.3 or look at additional components to help you make this inference. Alternatively, you can use the `.inverse_transform()` method of the PCA and StandardScaler objects to transform centroids back to the original data space and interpret the retrieved values directly.\n",
    "- Perform a similar investigation for the underrepresented clusters. Which cluster or clusters are underrepresented in the customer dataset compared to the general population, and what kinds of people are typified by these clusters?"
   ]
  },
  {
   "cell_type": "code",
   "execution_count": 274,
   "metadata": {},
   "outputs": [
    {
     "data": {
      "image/png": "[encoded data removed]",
      "text/plain": [
       "<Figure size 864x432 with 2 Axes>"
      ]
     },
     "metadata": {
      "needs_background": "light"
     },
     "output_type": "display_data"
    }
   ],
   "source": [
    "# Compare the proportion of data in each cluster for the customer data to the\n",
    "# proportion of data in each cluster for the general population.\n",
    "fig, axs = plt.subplots(1,2, figsize=(12,6))\n",
    "sns.countplot(x=results, ax=axs[0])\n",
    "axs[0].set_xlabel('Cluster')\n",
    "axs[0].set_ylabel('Count')\n",
    "sns.countplot(x=customer_results, ax=axs[1])\n",
    "axs[1].set_xlabel('Cluster')\n",
    "# fig.tight_layout()\n",
    "fig.suptitle('Cluster Distributions')\n",
    "plt.show()"
   ]
  },
  {
   "cell_type": "code",
   "execution_count": 275,
   "metadata": {},
   "outputs": [],
   "source": [
    "from collections import Counter"
   ]
  },
  {
   "cell_type": "code",
   "execution_count": 278,
   "metadata": {},
   "outputs": [],
   "source": [
    "global_cnts = Counter(results)\n",
    "customer_cnts = Counter(customer_results)"
   ]
  },
  {
   "cell_type": "code",
   "execution_count": 283,
   "metadata": {},
   "outputs": [],
   "source": [
    "def get_percent_pop(data) -> Counter:\n",
    "    \"\"\"Return a Counter Dict with percent population of each idx\"\"\"\n",
    "    cnts = Counter(data)\n",
    "    percent_cnts = {idx: cnt/len(data) for idx, cnt in cnts.most_common()}\n",
    "    return Counter(percent_cnts)"
   ]
  },
  {
   "cell_type": "code",
   "execution_count": 287,
   "metadata": {},
   "outputs": [],
   "source": [
    "global_percent, customer_percent = map(get_percent_pop, \n",
    "                                       (results, customer_results))"
   ]
  },
  {
   "cell_type": "code",
   "execution_count": 308,
   "metadata": {},
   "outputs": [
    {
     "data": {
      "image/png": "[encoded data removed]",
      "text/plain": [
       "<Figure size 864x432 with 1 Axes>"
      ]
     },
     "metadata": {
      "needs_background": "light"
     },
     "output_type": "display_data"
    }
   ],
   "source": [
    "fig, ax = plt.subplots(1,1, figsize=(12,6))\n",
    "pop_df = pd.concat(\n",
    "    [pd.Series(global_percent, name='Demographic Population').sort_index(),\n",
    "     pd.Series(customer_percent, name='Customer Population').sort_index()],\n",
    "    axis=1\n",
    ")\n",
    "pop_df.index.name='Cluster'\n",
    "pop_df.plot(kind='bar', ax=ax)\n",
    "ax.set_ylabel('Percent Population')\n",
    "ax.set_title('Population Coposition between Customer and Demographic Data',\n",
    "             fontweight='bold',\n",
    "             fontsize=16)\n",
    "plt.show()"
   ]
  },
  {
   "cell_type": "code",
   "execution_count": 316,
   "metadata": {},
   "outputs": [
    {
     "data": {
      "text/plain": [
       "<AxesSubplot:xlabel='Cluster'>"
      ]
     },
     "execution_count": 316,
     "metadata": {},
     "output_type": "execute_result"
    },
    {
     "data": {
      "image/png": "[encoded data removed]",
      "text/plain": [
       "<Figure size 720x432 with 1 Axes>"
      ]
     },
     "metadata": {
      "needs_background": "light"
     },
     "output_type": "display_data"
    }
   ],
   "source": [
    "pop_df = pop_df.assign(diff=lambda df: df['Demographic Population'] - df['Customer Population'])\n",
    "fig, ax = plt.subplots(1,1, figsize=(10,6))\n",
    "pop_df[['diff']].plot(kind='bar', ax=ax)"
   ]
  },
  {
   "cell_type": "code",
   "execution_count": 318,
   "metadata": {},
   "outputs": [
    {
     "data": {
      "text/html": [
       "<div>\n",
       "<style scoped>\n",
       "    .dataframe tbody tr th:only-of-type {\n",
       "        vertical-align: middle;\n",
       "    }\n",
       "\n",
       "    .dataframe tbody tr th {\n",
       "        vertical-align: top;\n",
       "    }\n",
       "\n",
       "    .dataframe thead th {\n",
       "        text-align: right;\n",
       "    }\n",
       "</style>\n",
       "<table border=\"1\" class=\"dataframe\">\n",
       "  <thead>\n",
       "    <tr style=\"text-align: right;\">\n",
       "      <th></th>\n",
       "      <th>Demographic Population</th>\n",
       "      <th>Customer Population</th>\n",
       "      <th>diff</th>\n",
       "    </tr>\n",
       "    <tr>\n",
       "      <th>Cluster</th>\n",
       "      <th></th>\n",
       "      <th></th>\n",
       "      <th></th>\n",
       "    </tr>\n",
       "  </thead>\n",
       "  <tbody>\n",
       "    <tr>\n",
       "      <th>12</th>\n",
       "      <td>0.008504</td>\n",
       "      <td>0.156028</td>\n",
       "      <td>-0.147524</td>\n",
       "    </tr>\n",
       "    <tr>\n",
       "      <th>1</th>\n",
       "      <td>0.090726</td>\n",
       "      <td>0.234044</td>\n",
       "      <td>-0.143318</td>\n",
       "    </tr>\n",
       "    <tr>\n",
       "      <th>7</th>\n",
       "      <td>0.072645</td>\n",
       "      <td>0.138386</td>\n",
       "      <td>-0.065741</td>\n",
       "    </tr>\n",
       "    <tr>\n",
       "      <th>19</th>\n",
       "      <td>0.042718</td>\n",
       "      <td>0.101043</td>\n",
       "      <td>-0.058324</td>\n",
       "    </tr>\n",
       "    <tr>\n",
       "      <th>16</th>\n",
       "      <td>0.003678</td>\n",
       "      <td>0.014177</td>\n",
       "      <td>-0.010499</td>\n",
       "    </tr>\n",
       "    <tr>\n",
       "      <th>5</th>\n",
       "      <td>0.072127</td>\n",
       "      <td>0.075340</td>\n",
       "      <td>-0.003213</td>\n",
       "    </tr>\n",
       "    <tr>\n",
       "      <th>14</th>\n",
       "      <td>0.000879</td>\n",
       "      <td>0.002077</td>\n",
       "      <td>-0.001198</td>\n",
       "    </tr>\n",
       "    <tr>\n",
       "      <th>2</th>\n",
       "      <td>0.044678</td>\n",
       "      <td>0.040746</td>\n",
       "      <td>0.003933</td>\n",
       "    </tr>\n",
       "    <tr>\n",
       "      <th>3</th>\n",
       "      <td>0.060962</td>\n",
       "      <td>0.056310</td>\n",
       "      <td>0.004652</td>\n",
       "    </tr>\n",
       "    <tr>\n",
       "      <th>13</th>\n",
       "      <td>0.035074</td>\n",
       "      <td>0.023365</td>\n",
       "      <td>0.011708</td>\n",
       "    </tr>\n",
       "    <tr>\n",
       "      <th>8</th>\n",
       "      <td>0.022549</td>\n",
       "      <td>0.002849</td>\n",
       "      <td>0.019700</td>\n",
       "    </tr>\n",
       "    <tr>\n",
       "      <th>0</th>\n",
       "      <td>0.022737</td>\n",
       "      <td>0.001362</td>\n",
       "      <td>0.021375</td>\n",
       "    </tr>\n",
       "    <tr>\n",
       "      <th>10</th>\n",
       "      <td>0.035153</td>\n",
       "      <td>0.003564</td>\n",
       "      <td>0.031589</td>\n",
       "    </tr>\n",
       "    <tr>\n",
       "      <th>17</th>\n",
       "      <td>0.042022</td>\n",
       "      <td>0.007811</td>\n",
       "      <td>0.034211</td>\n",
       "    </tr>\n",
       "    <tr>\n",
       "      <th>20</th>\n",
       "      <td>0.041371</td>\n",
       "      <td>0.006814</td>\n",
       "      <td>0.034556</td>\n",
       "    </tr>\n",
       "    <tr>\n",
       "      <th>9</th>\n",
       "      <td>0.071349</td>\n",
       "      <td>0.036551</td>\n",
       "      <td>0.034799</td>\n",
       "    </tr>\n",
       "    <tr>\n",
       "      <th>6</th>\n",
       "      <td>0.043516</td>\n",
       "      <td>0.003365</td>\n",
       "      <td>0.040150</td>\n",
       "    </tr>\n",
       "    <tr>\n",
       "      <th>15</th>\n",
       "      <td>0.062564</td>\n",
       "      <td>0.019718</td>\n",
       "      <td>0.042846</td>\n",
       "    </tr>\n",
       "    <tr>\n",
       "      <th>4</th>\n",
       "      <td>0.113870</td>\n",
       "      <td>0.070832</td>\n",
       "      <td>0.043039</td>\n",
       "    </tr>\n",
       "    <tr>\n",
       "      <th>18</th>\n",
       "      <td>0.054117</td>\n",
       "      <td>0.003084</td>\n",
       "      <td>0.051034</td>\n",
       "    </tr>\n",
       "    <tr>\n",
       "      <th>11</th>\n",
       "      <td>0.058761</td>\n",
       "      <td>0.002536</td>\n",
       "      <td>0.056225</td>\n",
       "    </tr>\n",
       "  </tbody>\n",
       "</table>\n",
       "</div>"
      ],
      "text/plain": [
       "         Demographic Population  Customer Population      diff\n",
       "Cluster                                                       \n",
       "12                     0.008504             0.156028 -0.147524\n",
       "1                      0.090726             0.234044 -0.143318\n",
       "7                      0.072645             0.138386 -0.065741\n",
       "19                     0.042718             0.101043 -0.058324\n",
       "16                     0.003678             0.014177 -0.010499\n",
       "5                      0.072127             0.075340 -0.003213\n",
       "14                     0.000879             0.002077 -0.001198\n",
       "2                      0.044678             0.040746  0.003933\n",
       "3                      0.060962             0.056310  0.004652\n",
       "13                     0.035074             0.023365  0.011708\n",
       "8                      0.022549             0.002849  0.019700\n",
       "0                      0.022737             0.001362  0.021375\n",
       "10                     0.035153             0.003564  0.031589\n",
       "17                     0.042022             0.007811  0.034211\n",
       "20                     0.041371             0.006814  0.034556\n",
       "9                      0.071349             0.036551  0.034799\n",
       "6                      0.043516             0.003365  0.040150\n",
       "15                     0.062564             0.019718  0.042846\n",
       "4                      0.113870             0.070832  0.043039\n",
       "18                     0.054117             0.003084  0.051034\n",
       "11                     0.058761             0.002536  0.056225"
      ]
     },
     "execution_count": 318,
     "metadata": {},
     "output_type": "execute_result"
    }
   ],
   "source": [
    "pop_df.sort_values('diff')"
   ]
  },
  {
   "cell_type": "code",
   "execution_count": null,
   "metadata": {},
   "outputs": [],
   "source": [
    "# What kinds of people are part of a cluster that is overrepresented in the\n",
    "# customer data compared to the general population?\n",
    "\n"
   ]
  },
  {
   "cell_type": "code",
   "execution_count": null,
   "metadata": {},
   "outputs": [],
   "source": [
    "# Over represented populations in order: 12, 1, 7, 19"
   ]
  },
  {
   "cell_type": "code",
   "execution_count": 329,
   "metadata": {},
   "outputs": [
    {
     "name": "stdout",
     "output_type": "stream",
     "text": [
      "\n",
      "Corresponding Component Weight for Component 12:\n"
     ]
    },
    {
     "data": {
      "text/plain": [
       "NATIONALITAET_KZ_1.0    0.369714\n",
       "PLZ8_ANTG2              0.184233\n",
       "OST_WEST_KZ_W           0.184085\n",
       "BALLRAUM                0.140850\n",
       "INNENSTADT              0.139466\n",
       "                          ...   \n",
       "OST_WEST_KZ_O          -0.184085\n",
       "ORTSGR_KLS9            -0.188364\n",
       "NATIONALITAET_KZ_2.0   -0.250959\n",
       "ARBEIT                 -0.257512\n",
       "NATIONALITAET_KZ_3.0   -0.266989\n",
       "Name: mse, Length: 100, dtype: float64"
      ]
     },
     "metadata": {},
     "output_type": "display_data"
    }
   ],
   "source": [
    "for i in (12,):  # 1, 7, 19):\n",
    "    weight = get_pc_weight(pipeline_pca.components_[i], azdias_clean.columns)\n",
    "    print(f'\\nCorresponding Component Weight for Component {i}:')\n",
    "    display(weight)"
   ]
  },
  {
   "cell_type": "markdown",
   "metadata": {},
   "source": [
    "*[ACM] Cluster 12 appears to be related to rural homes likely owned by German-Born \n",
    "individuals in former west Germany. For example, `BALLRAUM, INNENSTADT` positively \n",
    "coorelate while `ORTSGR_KLS9` negatively coorrelates favoring more rural communities*"
   ]
  },
  {
   "cell_type": "code",
   "execution_count": 330,
   "metadata": {},
   "outputs": [
    {
     "name": "stdout",
     "output_type": "stream",
     "text": [
      "\n",
      "Corresponding Component Weight for Component 1:\n"
     ]
    },
    {
     "data": {
      "text/plain": [
       "ALTERSKATEGORIE_GROB            0.200169\n",
       "ZABEOTYP_3.0                    0.197493\n",
       "SEMIO_ERL                       0.183033\n",
       "FINANZ_VORSORGER                0.177255\n",
       "RETOURTYP_BK_S                  0.152960\n",
       "                                  ...   \n",
       "SEMIO_PFLICHT                  -0.181476\n",
       "SEMIO_TRADV                    -0.185141\n",
       "FINANZ_UNAUFFAELLIGER          -0.196759\n",
       "PRAEGENDE_JUGENDJAHRE_decade   -0.199679\n",
       "SEMIO_REL                      -0.200806\n",
       "Name: mse, Length: 100, dtype: float64"
      ]
     },
     "metadata": {},
     "output_type": "display_data"
    }
   ],
   "source": [
    "for i in (1,):  # 7, 19):\n",
    "    weight = get_pc_weight(pipeline_pca.components_[i], azdias_clean.columns)\n",
    "    print(f'\\nCorresponding Component Weight for Component {i}:')\n",
    "    display(weight)"
   ]
  },
  {
   "cell_type": "markdown",
   "metadata": {},
   "source": [
    "*[ACM] Cluster 1 appears to be correlated positively to the indivitual's age\n",
    "and if they save their finances to be prepared. This group is negatively correlated\n",
    "with religion, traditional-mindedness, and dutiful-mindedness.*"
   ]
  },
  {
   "cell_type": "code",
   "execution_count": null,
   "metadata": {},
   "outputs": [],
   "source": []
  },
  {
   "cell_type": "code",
   "execution_count": null,
   "metadata": {},
   "outputs": [],
   "source": [
    "# What kinds of people are part of a cluster that is underrepresented in the\n",
    "# customer data compared to the general population?\n",
    "\n"
   ]
  },
  {
   "cell_type": "code",
   "execution_count": null,
   "metadata": {},
   "outputs": [],
   "source": [
    "# Under represented populations in order: 11, 18, 4, 15, 6, 9, ..."
   ]
  },
  {
   "cell_type": "code",
   "execution_count": 331,
   "metadata": {},
   "outputs": [
    {
     "name": "stdout",
     "output_type": "stream",
     "text": [
      "\n",
      "Corresponding Component Weight for Component 11:\n"
     ]
    },
    {
     "data": {
      "text/plain": [
       "NATIONALITAET_KZ_1.0    0.271369\n",
       "REGIOTYP                0.230652\n",
       "KBA05_ANTG4             0.217748\n",
       "KKK                     0.213299\n",
       "PLZ8_HHZ                0.205818\n",
       "                          ...   \n",
       "VERS_TYP_2.0           -0.178215\n",
       "FINANZ_HAUSBAUER       -0.186574\n",
       "NATIONALITAET_KZ_2.0   -0.209382\n",
       "LP_STATUS_GROB_2.0     -0.262365\n",
       "KBA05_ANTG2            -0.266446\n",
       "Name: mse, Length: 100, dtype: float64"
      ]
     },
     "metadata": {},
     "output_type": "display_data"
    }
   ],
   "source": [
    "for i in (11,):  # 11, 18, 4, 15, 6, 9, ...\n",
    "    weight = get_pc_weight(pipeline_pca.components_[i], azdias_clean.columns)\n",
    "    print(f'\\nCorresponding Component Weight for Component {i}:')\n",
    "    display(weight)"
   ]
  },
  {
   "cell_type": "markdown",
   "metadata": {},
   "source": [
    "*[ACM] Cluster 11 appears to be related to dense-poor urban homes likely in large family homes \n",
    "owned by Foreign-Born individuals. For example, `NATIONALITAET_KZ_1.0, REGIOTYP` positively \n",
    "coorelate indicating Foreigh-born in urban environments while `LP_STATUS_GROB_2.0` negatively \n",
    "coorrelates favoring more poorer individuals*"
   ]
  },
  {
   "cell_type": "code",
   "execution_count": 332,
   "metadata": {},
   "outputs": [
    {
     "name": "stdout",
     "output_type": "stream",
     "text": [
      "\n",
      "Corresponding Component Weight for Component 18:\n"
     ]
    },
    {
     "data": {
      "text/plain": [
       "ANZ_TITEL              0.314187\n",
       "LP_STATUS_GROB_1.0     0.254809\n",
       "LP_STATUS_GROB_3.0     0.254676\n",
       "SHOPPER_TYP_1.0        0.240662\n",
       "LP_FAMILIE_GROB_2.0    0.228081\n",
       "                         ...   \n",
       "LP_FAMILIE_GROB_5.0   -0.144775\n",
       "SHOPPER_TYP_0.0       -0.152510\n",
       "FINANZTYP_4.0         -0.188828\n",
       "LP_STATUS_GROB_4.0    -0.214466\n",
       "LP_STATUS_GROB_2.0    -0.426434\n",
       "Name: mse, Length: 100, dtype: float64"
      ]
     },
     "metadata": {},
     "output_type": "display_data"
    }
   ],
   "source": [
    "for i in (18,):  # 11, 18, 4, 15, 6, 9, ...\n",
    "    weight = get_pc_weight(pipeline_pca.components_[i], azdias_clean.columns)\n",
    "    print(f'\\nCorresponding Component Weight for Component {i}:')\n",
    "    display(weight)"
   ]
  },
  {
   "cell_type": "markdown",
   "metadata": {},
   "source": [
    "*[ACM] Cluster 18 appears to be related to educated, low-to-medium income small family (2) dense-poor urban homes likely in large family homes who tend to shop stressed.*"
   ]
  },
  {
   "cell_type": "markdown",
   "metadata": {},
   "source": [
    "### Discussion 3.3: Compare Customer Data to Demographics Data\n",
    "\n",
    "(Double-click this cell and replace this text with your own text, reporting findings and conclusions from the clustering analysis. Can we describe segments of the population that are relatively popular with the mail-order company, or relatively unpopular with the company?)"
   ]
  },
  {
   "cell_type": "markdown",
   "metadata": {},
   "source": [
    "*[ACM] Comparing Correlated Demographics of over and under represented \n",
    "populations in the customer dataset, it appears that customers are more likley \n",
    "to live in rural communities located in former west Germany owned by older, \n",
    "German-born mid-sized families and who considers themselves to be prepared with\n",
    "their finances. Groups under represented by the customer dataset, seem to be \n",
    "both small educated family homes who make low-to-medium incomes and low-income \n",
    "large family in dense urban environments.*"
   ]
  },
  {
   "cell_type": "markdown",
   "metadata": {},
   "source": [
    "> Congratulations on making it this far in the project! Before you finish, make sure to check through the entire notebook from top to bottom to make sure that your analysis follows a logical flow and all of your findings are documented in **Discussion** cells. Once you've checked over all of your work, you should export the notebook as an HTML document to submit for evaluation. You can do this from the menu, navigating to **File -> Download as -> HTML (.html)**. You will submit both that document and this notebook for your project submission."
   ]
  },
  {
   "cell_type": "code",
   "execution_count": null,
   "metadata": {},
   "outputs": [],
   "source": []
  }
 ],
 "metadata": {
  "kernelspec": {
   "display_name": "TensorFlow 2",
   "language": "python",
   "name": "tensorflow"
  },
  "language_info": {
   "codemirror_mode": {
    "name": "ipython",
    "version": 3
   },
   "file_extension": ".py",
   "mimetype": "text/x-python",
   "name": "python",
   "nbconvert_exporter": "python",
   "pygments_lexer": "ipython3",
   "version": "3.9.2"
  }
 },
 "nbformat": 4,
 "nbformat_minor": 4
}
